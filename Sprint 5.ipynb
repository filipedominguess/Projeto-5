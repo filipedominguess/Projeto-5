{
 "cells": [
  {
   "cell_type": "markdown",
   "id": "eb8a1221",
   "metadata": {},
   "source": [
    "# Quais jogos tem sucesso? Quais são os padrões que determinam esse sucesso? E quais padrões determinam o fracasso?"
   ]
  },
  {
   "cell_type": "markdown",
   "id": "8e705181",
   "metadata": {},
   "source": [
    "Você trabalha para a loja online Ice, que vende videogames no mundo todo. As avaliações de usuários e especialistas, gêneros, plataformas (por exemplo, Xbox ou PlayStation) e dados históricos sobre vendas de jogos estão disponíveis em fontes abertas. Você precisa identificar padrões que determinam se um jogo tem sucesso ou não. Isso permitirá que você identifique potenciais grandes vencedores e planeje campanhas publicitárias.\n",
    "Na sua frente estão dados que remontam a 2016. Vamos imaginar que estamos em dezembro de 2016 e você está planejando uma campanha para 2017.\n",
    "(O importante é ter experiência trabalhando com dados. Realmente não importa se você está prevendo as vendas de 2017 com base nos dados de 2016 ou as vendas de 2027 com base nos dados de 2026.)\n",
    "O conjunto de dados contém a abreviatura ESRB. O Entertainment Software Rating Board avalia o conteúdo de um jogo e atribui uma classificação etária, como Adolescente ou Maduro."
   ]
  },
  {
   "cell_type": "markdown",
   "id": "0c203260",
   "metadata": {},
   "source": [
    "## Inicialização."
   ]
  },
  {
   "cell_type": "markdown",
   "id": "030b67a8",
   "metadata": {},
   "source": [
    "Bibliotecas que serão utilizadas no projeto"
   ]
  },
  {
   "cell_type": "code",
   "execution_count": 1,
   "id": "61d8211e",
   "metadata": {},
   "outputs": [],
   "source": [
    "# Para manipulação de dados\n",
    "import pandas as pd\n",
    "\n",
    "# Para estatisticas \n",
    "from scipy import stats as st\n",
    "\n",
    "# Para gráficos \n",
    "import matplotlib.pyplot as plt \n",
    "\n",
    "# Para operações matemáticas \n",
    "import numpy as np"
   ]
  },
  {
   "cell_type": "markdown",
   "id": "8c39acda",
   "metadata": {},
   "source": [
    "## Carregando os dados."
   ]
  },
  {
   "cell_type": "markdown",
   "id": "b9f126ee",
   "metadata": {},
   "source": [
    "Leitura dos arquivos que serão utilizados"
   ]
  },
  {
   "cell_type": "code",
   "execution_count": 2,
   "id": "a0862f0f",
   "metadata": {},
   "outputs": [],
   "source": [
    "# Lendo o arquivo csv\n",
    "try:\n",
    "    games = pd.read_csv('/datasets/games.csv')\n",
    "except:\n",
    "    games = pd.read_csv('games.csv')"
   ]
  },
  {
   "cell_type": "markdown",
   "id": "d3504de0",
   "metadata": {},
   "source": [
    "## Visualização dos dados."
   ]
  },
  {
   "cell_type": "markdown",
   "id": "7014a756",
   "metadata": {},
   "source": [
    "Uma olhada nas informações gerais do dataset"
   ]
  },
  {
   "cell_type": "code",
   "execution_count": 3,
   "id": "6618d0ec",
   "metadata": {},
   "outputs": [
    {
     "data": {
      "text/html": [
       "<div>\n",
       "<style scoped>\n",
       "    .dataframe tbody tr th:only-of-type {\n",
       "        vertical-align: middle;\n",
       "    }\n",
       "\n",
       "    .dataframe tbody tr th {\n",
       "        vertical-align: top;\n",
       "    }\n",
       "\n",
       "    .dataframe thead th {\n",
       "        text-align: right;\n",
       "    }\n",
       "</style>\n",
       "<table border=\"1\" class=\"dataframe\">\n",
       "  <thead>\n",
       "    <tr style=\"text-align: right;\">\n",
       "      <th></th>\n",
       "      <th>Name</th>\n",
       "      <th>Platform</th>\n",
       "      <th>Year_of_Release</th>\n",
       "      <th>Genre</th>\n",
       "      <th>NA_sales</th>\n",
       "      <th>EU_sales</th>\n",
       "      <th>JP_sales</th>\n",
       "      <th>Other_sales</th>\n",
       "      <th>Critic_Score</th>\n",
       "      <th>User_Score</th>\n",
       "      <th>Rating</th>\n",
       "    </tr>\n",
       "  </thead>\n",
       "  <tbody>\n",
       "    <tr>\n",
       "      <th>0</th>\n",
       "      <td>Wii Sports</td>\n",
       "      <td>Wii</td>\n",
       "      <td>2006.0</td>\n",
       "      <td>Sports</td>\n",
       "      <td>41.36</td>\n",
       "      <td>28.96</td>\n",
       "      <td>3.77</td>\n",
       "      <td>8.45</td>\n",
       "      <td>76.0</td>\n",
       "      <td>8</td>\n",
       "      <td>E</td>\n",
       "    </tr>\n",
       "    <tr>\n",
       "      <th>1</th>\n",
       "      <td>Super Mario Bros.</td>\n",
       "      <td>NES</td>\n",
       "      <td>1985.0</td>\n",
       "      <td>Platform</td>\n",
       "      <td>29.08</td>\n",
       "      <td>3.58</td>\n",
       "      <td>6.81</td>\n",
       "      <td>0.77</td>\n",
       "      <td>NaN</td>\n",
       "      <td>NaN</td>\n",
       "      <td>NaN</td>\n",
       "    </tr>\n",
       "    <tr>\n",
       "      <th>2</th>\n",
       "      <td>Mario Kart Wii</td>\n",
       "      <td>Wii</td>\n",
       "      <td>2008.0</td>\n",
       "      <td>Racing</td>\n",
       "      <td>15.68</td>\n",
       "      <td>12.76</td>\n",
       "      <td>3.79</td>\n",
       "      <td>3.29</td>\n",
       "      <td>82.0</td>\n",
       "      <td>8.3</td>\n",
       "      <td>E</td>\n",
       "    </tr>\n",
       "    <tr>\n",
       "      <th>3</th>\n",
       "      <td>Wii Sports Resort</td>\n",
       "      <td>Wii</td>\n",
       "      <td>2009.0</td>\n",
       "      <td>Sports</td>\n",
       "      <td>15.61</td>\n",
       "      <td>10.93</td>\n",
       "      <td>3.28</td>\n",
       "      <td>2.95</td>\n",
       "      <td>80.0</td>\n",
       "      <td>8</td>\n",
       "      <td>E</td>\n",
       "    </tr>\n",
       "    <tr>\n",
       "      <th>4</th>\n",
       "      <td>Pokemon Red/Pokemon Blue</td>\n",
       "      <td>GB</td>\n",
       "      <td>1996.0</td>\n",
       "      <td>Role-Playing</td>\n",
       "      <td>11.27</td>\n",
       "      <td>8.89</td>\n",
       "      <td>10.22</td>\n",
       "      <td>1.00</td>\n",
       "      <td>NaN</td>\n",
       "      <td>NaN</td>\n",
       "      <td>NaN</td>\n",
       "    </tr>\n",
       "    <tr>\n",
       "      <th>5</th>\n",
       "      <td>Tetris</td>\n",
       "      <td>GB</td>\n",
       "      <td>1989.0</td>\n",
       "      <td>Puzzle</td>\n",
       "      <td>23.20</td>\n",
       "      <td>2.26</td>\n",
       "      <td>4.22</td>\n",
       "      <td>0.58</td>\n",
       "      <td>NaN</td>\n",
       "      <td>NaN</td>\n",
       "      <td>NaN</td>\n",
       "    </tr>\n",
       "    <tr>\n",
       "      <th>6</th>\n",
       "      <td>New Super Mario Bros.</td>\n",
       "      <td>DS</td>\n",
       "      <td>2006.0</td>\n",
       "      <td>Platform</td>\n",
       "      <td>11.28</td>\n",
       "      <td>9.14</td>\n",
       "      <td>6.50</td>\n",
       "      <td>2.88</td>\n",
       "      <td>89.0</td>\n",
       "      <td>8.5</td>\n",
       "      <td>E</td>\n",
       "    </tr>\n",
       "    <tr>\n",
       "      <th>7</th>\n",
       "      <td>Wii Play</td>\n",
       "      <td>Wii</td>\n",
       "      <td>2006.0</td>\n",
       "      <td>Misc</td>\n",
       "      <td>13.96</td>\n",
       "      <td>9.18</td>\n",
       "      <td>2.93</td>\n",
       "      <td>2.84</td>\n",
       "      <td>58.0</td>\n",
       "      <td>6.6</td>\n",
       "      <td>E</td>\n",
       "    </tr>\n",
       "    <tr>\n",
       "      <th>8</th>\n",
       "      <td>New Super Mario Bros. Wii</td>\n",
       "      <td>Wii</td>\n",
       "      <td>2009.0</td>\n",
       "      <td>Platform</td>\n",
       "      <td>14.44</td>\n",
       "      <td>6.94</td>\n",
       "      <td>4.70</td>\n",
       "      <td>2.24</td>\n",
       "      <td>87.0</td>\n",
       "      <td>8.4</td>\n",
       "      <td>E</td>\n",
       "    </tr>\n",
       "    <tr>\n",
       "      <th>9</th>\n",
       "      <td>Duck Hunt</td>\n",
       "      <td>NES</td>\n",
       "      <td>1984.0</td>\n",
       "      <td>Shooter</td>\n",
       "      <td>26.93</td>\n",
       "      <td>0.63</td>\n",
       "      <td>0.28</td>\n",
       "      <td>0.47</td>\n",
       "      <td>NaN</td>\n",
       "      <td>NaN</td>\n",
       "      <td>NaN</td>\n",
       "    </tr>\n",
       "  </tbody>\n",
       "</table>\n",
       "</div>"
      ],
      "text/plain": [
       "                        Name Platform  Year_of_Release         Genre  \\\n",
       "0                 Wii Sports      Wii           2006.0        Sports   \n",
       "1          Super Mario Bros.      NES           1985.0      Platform   \n",
       "2             Mario Kart Wii      Wii           2008.0        Racing   \n",
       "3          Wii Sports Resort      Wii           2009.0        Sports   \n",
       "4   Pokemon Red/Pokemon Blue       GB           1996.0  Role-Playing   \n",
       "5                     Tetris       GB           1989.0        Puzzle   \n",
       "6      New Super Mario Bros.       DS           2006.0      Platform   \n",
       "7                   Wii Play      Wii           2006.0          Misc   \n",
       "8  New Super Mario Bros. Wii      Wii           2009.0      Platform   \n",
       "9                  Duck Hunt      NES           1984.0       Shooter   \n",
       "\n",
       "   NA_sales  EU_sales  JP_sales  Other_sales  Critic_Score User_Score Rating  \n",
       "0     41.36     28.96      3.77         8.45          76.0          8      E  \n",
       "1     29.08      3.58      6.81         0.77           NaN        NaN    NaN  \n",
       "2     15.68     12.76      3.79         3.29          82.0        8.3      E  \n",
       "3     15.61     10.93      3.28         2.95          80.0          8      E  \n",
       "4     11.27      8.89     10.22         1.00           NaN        NaN    NaN  \n",
       "5     23.20      2.26      4.22         0.58           NaN        NaN    NaN  \n",
       "6     11.28      9.14      6.50         2.88          89.0        8.5      E  \n",
       "7     13.96      9.18      2.93         2.84          58.0        6.6      E  \n",
       "8     14.44      6.94      4.70         2.24          87.0        8.4      E  \n",
       "9     26.93      0.63      0.28         0.47           NaN        NaN    NaN  "
      ]
     },
     "execution_count": 3,
     "metadata": {},
     "output_type": "execute_result"
    }
   ],
   "source": [
    "# Visualizandos as 10 primeiras linhas da tabela\n",
    "games.head(10)"
   ]
  },
  {
   "cell_type": "code",
   "execution_count": 4,
   "id": "020a8a87",
   "metadata": {},
   "outputs": [
    {
     "data": {
      "text/html": [
       "<div>\n",
       "<style scoped>\n",
       "    .dataframe tbody tr th:only-of-type {\n",
       "        vertical-align: middle;\n",
       "    }\n",
       "\n",
       "    .dataframe tbody tr th {\n",
       "        vertical-align: top;\n",
       "    }\n",
       "\n",
       "    .dataframe thead th {\n",
       "        text-align: right;\n",
       "    }\n",
       "</style>\n",
       "<table border=\"1\" class=\"dataframe\">\n",
       "  <thead>\n",
       "    <tr style=\"text-align: right;\">\n",
       "      <th></th>\n",
       "      <th>Name</th>\n",
       "      <th>Platform</th>\n",
       "      <th>Year_of_Release</th>\n",
       "      <th>Genre</th>\n",
       "      <th>NA_sales</th>\n",
       "      <th>EU_sales</th>\n",
       "      <th>JP_sales</th>\n",
       "      <th>Other_sales</th>\n",
       "      <th>Critic_Score</th>\n",
       "      <th>User_Score</th>\n",
       "      <th>Rating</th>\n",
       "    </tr>\n",
       "  </thead>\n",
       "  <tbody>\n",
       "    <tr>\n",
       "      <th>16705</th>\n",
       "      <td>15 Days</td>\n",
       "      <td>PC</td>\n",
       "      <td>2009.0</td>\n",
       "      <td>Adventure</td>\n",
       "      <td>0.00</td>\n",
       "      <td>0.01</td>\n",
       "      <td>0.00</td>\n",
       "      <td>0.0</td>\n",
       "      <td>63.0</td>\n",
       "      <td>5.8</td>\n",
       "      <td>NaN</td>\n",
       "    </tr>\n",
       "    <tr>\n",
       "      <th>16706</th>\n",
       "      <td>Men in Black II: Alien Escape</td>\n",
       "      <td>GC</td>\n",
       "      <td>2003.0</td>\n",
       "      <td>Shooter</td>\n",
       "      <td>0.01</td>\n",
       "      <td>0.00</td>\n",
       "      <td>0.00</td>\n",
       "      <td>0.0</td>\n",
       "      <td>NaN</td>\n",
       "      <td>tbd</td>\n",
       "      <td>T</td>\n",
       "    </tr>\n",
       "    <tr>\n",
       "      <th>16707</th>\n",
       "      <td>Aiyoku no Eustia</td>\n",
       "      <td>PSV</td>\n",
       "      <td>2014.0</td>\n",
       "      <td>Misc</td>\n",
       "      <td>0.00</td>\n",
       "      <td>0.00</td>\n",
       "      <td>0.01</td>\n",
       "      <td>0.0</td>\n",
       "      <td>NaN</td>\n",
       "      <td>NaN</td>\n",
       "      <td>NaN</td>\n",
       "    </tr>\n",
       "    <tr>\n",
       "      <th>16708</th>\n",
       "      <td>Woody Woodpecker in Crazy Castle 5</td>\n",
       "      <td>GBA</td>\n",
       "      <td>2002.0</td>\n",
       "      <td>Platform</td>\n",
       "      <td>0.01</td>\n",
       "      <td>0.00</td>\n",
       "      <td>0.00</td>\n",
       "      <td>0.0</td>\n",
       "      <td>NaN</td>\n",
       "      <td>NaN</td>\n",
       "      <td>NaN</td>\n",
       "    </tr>\n",
       "    <tr>\n",
       "      <th>16709</th>\n",
       "      <td>SCORE International Baja 1000: The Official Game</td>\n",
       "      <td>PS2</td>\n",
       "      <td>2008.0</td>\n",
       "      <td>Racing</td>\n",
       "      <td>0.00</td>\n",
       "      <td>0.00</td>\n",
       "      <td>0.00</td>\n",
       "      <td>0.0</td>\n",
       "      <td>NaN</td>\n",
       "      <td>NaN</td>\n",
       "      <td>NaN</td>\n",
       "    </tr>\n",
       "    <tr>\n",
       "      <th>16710</th>\n",
       "      <td>Samurai Warriors: Sanada Maru</td>\n",
       "      <td>PS3</td>\n",
       "      <td>2016.0</td>\n",
       "      <td>Action</td>\n",
       "      <td>0.00</td>\n",
       "      <td>0.00</td>\n",
       "      <td>0.01</td>\n",
       "      <td>0.0</td>\n",
       "      <td>NaN</td>\n",
       "      <td>NaN</td>\n",
       "      <td>NaN</td>\n",
       "    </tr>\n",
       "    <tr>\n",
       "      <th>16711</th>\n",
       "      <td>LMA Manager 2007</td>\n",
       "      <td>X360</td>\n",
       "      <td>2006.0</td>\n",
       "      <td>Sports</td>\n",
       "      <td>0.00</td>\n",
       "      <td>0.01</td>\n",
       "      <td>0.00</td>\n",
       "      <td>0.0</td>\n",
       "      <td>NaN</td>\n",
       "      <td>NaN</td>\n",
       "      <td>NaN</td>\n",
       "    </tr>\n",
       "    <tr>\n",
       "      <th>16712</th>\n",
       "      <td>Haitaka no Psychedelica</td>\n",
       "      <td>PSV</td>\n",
       "      <td>2016.0</td>\n",
       "      <td>Adventure</td>\n",
       "      <td>0.00</td>\n",
       "      <td>0.00</td>\n",
       "      <td>0.01</td>\n",
       "      <td>0.0</td>\n",
       "      <td>NaN</td>\n",
       "      <td>NaN</td>\n",
       "      <td>NaN</td>\n",
       "    </tr>\n",
       "    <tr>\n",
       "      <th>16713</th>\n",
       "      <td>Spirits &amp; Spells</td>\n",
       "      <td>GBA</td>\n",
       "      <td>2003.0</td>\n",
       "      <td>Platform</td>\n",
       "      <td>0.01</td>\n",
       "      <td>0.00</td>\n",
       "      <td>0.00</td>\n",
       "      <td>0.0</td>\n",
       "      <td>NaN</td>\n",
       "      <td>NaN</td>\n",
       "      <td>NaN</td>\n",
       "    </tr>\n",
       "    <tr>\n",
       "      <th>16714</th>\n",
       "      <td>Winning Post 8 2016</td>\n",
       "      <td>PSV</td>\n",
       "      <td>2016.0</td>\n",
       "      <td>Simulation</td>\n",
       "      <td>0.00</td>\n",
       "      <td>0.00</td>\n",
       "      <td>0.01</td>\n",
       "      <td>0.0</td>\n",
       "      <td>NaN</td>\n",
       "      <td>NaN</td>\n",
       "      <td>NaN</td>\n",
       "    </tr>\n",
       "  </tbody>\n",
       "</table>\n",
       "</div>"
      ],
      "text/plain": [
       "                                                   Name Platform  \\\n",
       "16705                                           15 Days       PC   \n",
       "16706                     Men in Black II: Alien Escape       GC   \n",
       "16707                                  Aiyoku no Eustia      PSV   \n",
       "16708                Woody Woodpecker in Crazy Castle 5      GBA   \n",
       "16709  SCORE International Baja 1000: The Official Game      PS2   \n",
       "16710                     Samurai Warriors: Sanada Maru      PS3   \n",
       "16711                                  LMA Manager 2007     X360   \n",
       "16712                           Haitaka no Psychedelica      PSV   \n",
       "16713                                  Spirits & Spells      GBA   \n",
       "16714                               Winning Post 8 2016      PSV   \n",
       "\n",
       "       Year_of_Release       Genre  NA_sales  EU_sales  JP_sales  Other_sales  \\\n",
       "16705           2009.0   Adventure      0.00      0.01      0.00          0.0   \n",
       "16706           2003.0     Shooter      0.01      0.00      0.00          0.0   \n",
       "16707           2014.0        Misc      0.00      0.00      0.01          0.0   \n",
       "16708           2002.0    Platform      0.01      0.00      0.00          0.0   \n",
       "16709           2008.0      Racing      0.00      0.00      0.00          0.0   \n",
       "16710           2016.0      Action      0.00      0.00      0.01          0.0   \n",
       "16711           2006.0      Sports      0.00      0.01      0.00          0.0   \n",
       "16712           2016.0   Adventure      0.00      0.00      0.01          0.0   \n",
       "16713           2003.0    Platform      0.01      0.00      0.00          0.0   \n",
       "16714           2016.0  Simulation      0.00      0.00      0.01          0.0   \n",
       "\n",
       "       Critic_Score User_Score Rating  \n",
       "16705          63.0        5.8    NaN  \n",
       "16706           NaN        tbd      T  \n",
       "16707           NaN        NaN    NaN  \n",
       "16708           NaN        NaN    NaN  \n",
       "16709           NaN        NaN    NaN  \n",
       "16710           NaN        NaN    NaN  \n",
       "16711           NaN        NaN    NaN  \n",
       "16712           NaN        NaN    NaN  \n",
       "16713           NaN        NaN    NaN  \n",
       "16714           NaN        NaN    NaN  "
      ]
     },
     "execution_count": 4,
     "metadata": {},
     "output_type": "execute_result"
    }
   ],
   "source": [
    "# Visualizandos as 10 ultimas linhas da tabela\n",
    "games.tail(10)"
   ]
  },
  {
   "cell_type": "code",
   "execution_count": 5,
   "id": "60a34e64",
   "metadata": {},
   "outputs": [
    {
     "name": "stdout",
     "output_type": "stream",
     "text": [
      "<class 'pandas.core.frame.DataFrame'>\n",
      "RangeIndex: 16715 entries, 0 to 16714\n",
      "Data columns (total 11 columns):\n",
      " #   Column           Non-Null Count  Dtype  \n",
      "---  ------           --------------  -----  \n",
      " 0   Name             16713 non-null  object \n",
      " 1   Platform         16715 non-null  object \n",
      " 2   Year_of_Release  16446 non-null  float64\n",
      " 3   Genre            16713 non-null  object \n",
      " 4   NA_sales         16715 non-null  float64\n",
      " 5   EU_sales         16715 non-null  float64\n",
      " 6   JP_sales         16715 non-null  float64\n",
      " 7   Other_sales      16715 non-null  float64\n",
      " 8   Critic_Score     8137 non-null   float64\n",
      " 9   User_Score       10014 non-null  object \n",
      " 10  Rating           9949 non-null   object \n",
      "dtypes: float64(6), object(5)\n",
      "memory usage: 1.4+ MB\n"
     ]
    }
   ],
   "source": [
    "# Verificando as informações gerais dataframe\n",
    "games.info()"
   ]
  },
  {
   "cell_type": "code",
   "execution_count": 6,
   "id": "4433c679",
   "metadata": {},
   "outputs": [
    {
     "data": {
      "text/plain": [
       "Name                  2\n",
       "Platform              0\n",
       "Year_of_Release     269\n",
       "Genre                 2\n",
       "NA_sales              0\n",
       "EU_sales              0\n",
       "JP_sales              0\n",
       "Other_sales           0\n",
       "Critic_Score       8578\n",
       "User_Score         6701\n",
       "Rating             6766\n",
       "dtype: int64"
      ]
     },
     "execution_count": 6,
     "metadata": {},
     "output_type": "execute_result"
    }
   ],
   "source": [
    "# Verificando o número total de valores ausentes por coluna\n",
    "games.isna().sum()"
   ]
  },
  {
   "cell_type": "code",
   "execution_count": 7,
   "id": "824e1cbe",
   "metadata": {},
   "outputs": [
    {
     "data": {
      "text/plain": [
       "0"
      ]
     },
     "execution_count": 7,
     "metadata": {},
     "output_type": "execute_result"
    }
   ],
   "source": [
    "# Verficando a quantidade de valores duplicados\n",
    "games.duplicated().sum()"
   ]
  },
  {
   "cell_type": "markdown",
   "id": "6069ada0",
   "metadata": {},
   "source": [
    "## Preparando os dados."
   ]
  },
  {
   "cell_type": "markdown",
   "id": "4be32959",
   "metadata": {},
   "source": [
    "### Substituir os nomes das colunas (transformar tudo em minúsculos)."
   ]
  },
  {
   "cell_type": "code",
   "execution_count": 8,
   "id": "5e71707c",
   "metadata": {},
   "outputs": [
    {
     "name": "stdout",
     "output_type": "stream",
     "text": [
      "<class 'pandas.core.frame.DataFrame'>\n",
      "RangeIndex: 16715 entries, 0 to 16714\n",
      "Data columns (total 11 columns):\n",
      " #   Column           Non-Null Count  Dtype  \n",
      "---  ------           --------------  -----  \n",
      " 0   name             16713 non-null  object \n",
      " 1   platform         16715 non-null  object \n",
      " 2   year_of_release  16446 non-null  float64\n",
      " 3   genre            16713 non-null  object \n",
      " 4   na_sales         16715 non-null  float64\n",
      " 5   eu_sales         16715 non-null  float64\n",
      " 6   jp_sales         16715 non-null  float64\n",
      " 7   other_sales      16715 non-null  float64\n",
      " 8   critic_score     8137 non-null   float64\n",
      " 9   user_score       10014 non-null  object \n",
      " 10  rating           9949 non-null   object \n",
      "dtypes: float64(6), object(5)\n",
      "memory usage: 1.4+ MB\n"
     ]
    }
   ],
   "source": [
    "# Substituindo nome das colunas para letras minúsculas\n",
    "games.columns = games.columns.str.lower()\n",
    "games.info()"
   ]
  },
  {
   "cell_type": "code",
   "execution_count": 9,
   "id": "b30e648b",
   "metadata": {},
   "outputs": [],
   "source": [
    "# Substituindo valores da coluna 'name' para minusculas\n",
    "games['name'] = games['name'].str.lower()\n",
    "\n",
    "# Substituindo valores da coluna 'platform' para minusculas\n",
    "games['platform'] = games['platform'].str.lower()\n",
    "\n",
    "# Substituindo valores da coluna 'genre' para minusculas\n",
    "games['genre'] = games['genre'].str.lower()\n",
    "\n",
    "# Substituindo valores da coluna 'rating' para minusculas\n",
    "games['rating'] = games['rating'].str.lower()"
   ]
  },
  {
   "cell_type": "markdown",
   "id": "e7b0d147",
   "metadata": {},
   "source": [
    "## Se necessário, decida como lidar com valores ausentes"
   ]
  },
  {
   "cell_type": "code",
   "execution_count": 10,
   "id": "46229f9b",
   "metadata": {},
   "outputs": [
    {
     "data": {
      "text/plain": [
       "name                  2\n",
       "platform              0\n",
       "year_of_release     269\n",
       "genre                 2\n",
       "na_sales              0\n",
       "eu_sales              0\n",
       "jp_sales              0\n",
       "other_sales           0\n",
       "critic_score       8578\n",
       "user_score         6701\n",
       "rating             6766\n",
       "dtype: int64"
      ]
     },
     "execution_count": 10,
     "metadata": {},
     "output_type": "execute_result"
    }
   ],
   "source": [
    "games.isna().sum()"
   ]
  },
  {
   "cell_type": "code",
   "execution_count": 11,
   "id": "93f0541d",
   "metadata": {},
   "outputs": [
    {
     "name": "stdout",
     "output_type": "stream",
     "text": [
      "<class 'pandas.core.frame.DataFrame'>\n",
      "RangeIndex: 16715 entries, 0 to 16714\n",
      "Data columns (total 11 columns):\n",
      " #   Column           Non-Null Count  Dtype  \n",
      "---  ------           --------------  -----  \n",
      " 0   name             16715 non-null  object \n",
      " 1   platform         16715 non-null  object \n",
      " 2   year_of_release  16446 non-null  float64\n",
      " 3   genre            16713 non-null  object \n",
      " 4   na_sales         16715 non-null  float64\n",
      " 5   eu_sales         16715 non-null  float64\n",
      " 6   jp_sales         16715 non-null  float64\n",
      " 7   other_sales      16715 non-null  float64\n",
      " 8   critic_score     8137 non-null   float64\n",
      " 9   user_score       10014 non-null  object \n",
      " 10  rating           9949 non-null   object \n",
      "dtypes: float64(6), object(5)\n",
      "memory usage: 1.4+ MB\n"
     ]
    }
   ],
   "source": [
    "# Substituindo valores nulos da coluna 'name' para 'unknown'\n",
    "games['name'] = games['name'].fillna('unknown')\n",
    "games.info()"
   ]
  },
  {
   "cell_type": "markdown",
   "id": "0e08b050",
   "metadata": {},
   "source": [
    "Substituir valores ausentes da coluna 'year_of_release' para média de acordo com a plataforma pois nela não existe valores ausentes"
   ]
  },
  {
   "cell_type": "code",
   "execution_count": 12,
   "id": "7fd28ce6",
   "metadata": {},
   "outputs": [
    {
     "name": "stdout",
     "output_type": "stream",
     "text": [
      "<class 'pandas.core.frame.DataFrame'>\n",
      "RangeIndex: 16715 entries, 0 to 16714\n",
      "Data columns (total 11 columns):\n",
      " #   Column           Non-Null Count  Dtype  \n",
      "---  ------           --------------  -----  \n",
      " 0   name             16715 non-null  object \n",
      " 1   platform         16715 non-null  object \n",
      " 2   year_of_release  16715 non-null  float64\n",
      " 3   genre            16713 non-null  object \n",
      " 4   na_sales         16715 non-null  float64\n",
      " 5   eu_sales         16715 non-null  float64\n",
      " 6   jp_sales         16715 non-null  float64\n",
      " 7   other_sales      16715 non-null  float64\n",
      " 8   critic_score     8137 non-null   float64\n",
      " 9   user_score       10014 non-null  object \n",
      " 10  rating           9949 non-null   object \n",
      "dtypes: float64(6), object(5)\n",
      "memory usage: 1.4+ MB\n"
     ]
    }
   ],
   "source": [
    "# Criando um agrupamento e transformando ela em um dicionário com o to_dict\n",
    "plat_year = games.groupby('platform')['year_of_release'].median().to_dict()\n",
    "# Criando função para substituir os valores nulos do ano de lançamento pela mediana do ano baseado na plataforma\n",
    "def year_median_au(x):\n",
    "    # vendo se é um valor nulo\n",
    "    if np.isnan(x['year_of_release']):\n",
    "        # Pegando a mediana do ano baseada na platarforma\n",
    "        return plat_year.get(x['platform'])\n",
    "    \n",
    "    else:\n",
    "        # Retornando apenas o ano para valores que não estão ausentes\n",
    "        return x['year_of_release']\n",
    "# Aplicando a função e usando o axis=1 para aplicar linha a linha\n",
    "games['year_of_release'] = games.apply(year_median_au,axis=1)\n",
    "games.info()"
   ]
  },
  {
   "cell_type": "markdown",
   "id": "7996bd0a",
   "metadata": {},
   "source": [
    "## Converta os dados para os tipos necessários."
   ]
  },
  {
   "cell_type": "code",
   "execution_count": 13,
   "id": "907282c7",
   "metadata": {},
   "outputs": [],
   "source": [
    "# Convertendo o tipo de float para int\n",
    "games['year_of_release'] = games['year_of_release'].astype('int')"
   ]
  },
  {
   "cell_type": "markdown",
   "id": "08f36e77",
   "metadata": {},
   "source": [
    "## Descreva as colunas onde os tipos de dados foram alterados e por quê."
   ]
  },
  {
   "cell_type": "markdown",
   "id": "087899e0",
   "metadata": {},
   "source": [
    "Houve a conversão do tipo do dado da coluna 'year_of_release' para termos uma melhor representação dela."
   ]
  },
  {
   "cell_type": "markdown",
   "id": "4619801f",
   "metadata": {},
   "source": [
    "## Se necessário, decida como lidar com valores ausentes\n"
   ]
  },
  {
   "cell_type": "code",
   "execution_count": 14,
   "id": "73cf7970",
   "metadata": {},
   "outputs": [
    {
     "data": {
      "text/plain": [
       "name                  0\n",
       "platform              0\n",
       "year_of_release       0\n",
       "genre                 2\n",
       "na_sales              0\n",
       "eu_sales              0\n",
       "jp_sales              0\n",
       "other_sales           0\n",
       "critic_score       8578\n",
       "user_score         6701\n",
       "rating             6766\n",
       "dtype: int64"
      ]
     },
     "execution_count": 14,
     "metadata": {},
     "output_type": "execute_result"
    }
   ],
   "source": [
    "games.isna().sum()"
   ]
  },
  {
   "cell_type": "code",
   "execution_count": 15,
   "id": "5c951673",
   "metadata": {},
   "outputs": [
    {
     "data": {
      "text/plain": [
       "name                  0\n",
       "platform              0\n",
       "year_of_release       0\n",
       "genre                 0\n",
       "na_sales              0\n",
       "eu_sales              0\n",
       "jp_sales              0\n",
       "other_sales           0\n",
       "critic_score       8576\n",
       "user_score         6699\n",
       "rating             6764\n",
       "dtype: int64"
      ]
     },
     "execution_count": 15,
     "metadata": {},
     "output_type": "execute_result"
    }
   ],
   "source": [
    "# Pegando os valores nulos da coluna genre\n",
    "genre_del = games.loc[games['genre'].isnull()]\n",
    "# Apagando as 2 linhas com valores ausentes\n",
    "games = games.drop(genre_del.index)\n",
    "games.isna().sum()"
   ]
  },
  {
   "cell_type": "code",
   "execution_count": 16,
   "id": "74615329",
   "metadata": {},
   "outputs": [
    {
     "data": {
      "text/plain": [
       "name                  0\n",
       "platform              0\n",
       "year_of_release       0\n",
       "genre                 0\n",
       "na_sales              0\n",
       "eu_sales              0\n",
       "jp_sales              0\n",
       "other_sales           0\n",
       "critic_score          0\n",
       "user_score         6699\n",
       "rating             6764\n",
       "dtype: int64"
      ]
     },
     "execution_count": 16,
     "metadata": {},
     "output_type": "execute_result"
    }
   ],
   "source": [
    "# Criando um agrupamento e transformando ela em um dicionário com o to_dict\n",
    "plat_year = games.groupby('genre')['critic_score'].median().to_dict()\n",
    "# Criando função para substituir os valores nulos do critic_score de lançamento pela mediana do ano baseado na genre\n",
    "def critic(x):\n",
    "    # vendo se é um valor nulo\n",
    "    if np.isnan(x['critic_score']):\n",
    "        # Pegando a mediana do ano baseada na genre\n",
    "        return plat_year.get(x['genre'])\n",
    "    \n",
    "    else:\n",
    "        # Retornando apenas o ano para valores que não estão ausentes\n",
    "        return x['critic_score']\n",
    "# Aplicando a função e usando o axis=1 para aplicar linha a linha\n",
    "games['critic_score'] = games.apply(critic,axis=1)\n",
    "games.isna().sum()"
   ]
  },
  {
   "cell_type": "code",
   "execution_count": 17,
   "id": "f3d605c8",
   "metadata": {},
   "outputs": [
    {
     "data": {
      "text/plain": [
       "tbd    2424\n",
       "7.8     324\n",
       "8       290\n",
       "8.2     282\n",
       "8.3     254\n",
       "       ... \n",
       "1.1       2\n",
       "1.9       2\n",
       "9.6       2\n",
       "0         1\n",
       "9.7       1\n",
       "Name: user_score, Length: 96, dtype: int64"
      ]
     },
     "execution_count": 17,
     "metadata": {},
     "output_type": "execute_result"
    }
   ],
   "source": [
    "games['user_score'].value_counts()"
   ]
  },
  {
   "cell_type": "code",
   "execution_count": 18,
   "id": "2b7316cb",
   "metadata": {},
   "outputs": [
    {
     "name": "stdout",
     "output_type": "stream",
     "text": [
      "<class 'pandas.core.frame.DataFrame'>\n",
      "Int64Index: 16713 entries, 0 to 16714\n",
      "Data columns (total 11 columns):\n",
      " #   Column           Non-Null Count  Dtype  \n",
      "---  ------           --------------  -----  \n",
      " 0   name             16713 non-null  object \n",
      " 1   platform         16713 non-null  object \n",
      " 2   year_of_release  16713 non-null  int32  \n",
      " 3   genre            16713 non-null  object \n",
      " 4   na_sales         16713 non-null  float64\n",
      " 5   eu_sales         16713 non-null  float64\n",
      " 6   jp_sales         16713 non-null  float64\n",
      " 7   other_sales      16713 non-null  float64\n",
      " 8   critic_score     16713 non-null  float64\n",
      " 9   user_score       7590 non-null   float64\n",
      " 10  rating           9949 non-null   object \n",
      "dtypes: float64(6), int32(1), object(4)\n",
      "memory usage: 1.5+ MB\n"
     ]
    }
   ],
   "source": [
    "# Substituindo o valor 'tbd' para nulo\n",
    "games['user_score'].replace('tbd', np.nan, inplace=True)\n",
    "# transformando o valor em float pois quando foi usado o replace ele se trnasformou em object\n",
    "games['user_score'] = games['user_score'].astype('float')\n",
    "games.info()"
   ]
  },
  {
   "cell_type": "code",
   "execution_count": 19,
   "id": "4cb30e1e",
   "metadata": {
    "scrolled": false
   },
   "outputs": [
    {
     "data": {
      "text/plain": [
       "name                  0\n",
       "platform              0\n",
       "year_of_release       0\n",
       "genre                 0\n",
       "na_sales              0\n",
       "eu_sales              0\n",
       "jp_sales              0\n",
       "other_sales           0\n",
       "critic_score          0\n",
       "user_score            0\n",
       "rating             6764\n",
       "dtype: int64"
      ]
     },
     "execution_count": 19,
     "metadata": {},
     "output_type": "execute_result"
    }
   ],
   "source": [
    "# Criando um agrupamento e transformando ela em um dicionário com o to_dict\n",
    "plat_year = games.groupby('genre')['user_score'].median().to_dict()\n",
    "# Criando função para substituir os valores nulos do user_score de lançamento pela mediana do ano baseado na genre\n",
    "def user_score(x):\n",
    "    # vendo se é um valor nulo\n",
    "    if np.isnan(x['user_score']):\n",
    "        # Pegando a mediana do ano baseada na genre\n",
    "        return plat_year.get(x['genre'])\n",
    "    \n",
    "    else:\n",
    "        # Retornando apenas o ano para valores que não estão ausentes\n",
    "        return x['user_score']\n",
    "# Aplicando a função e usando o axis=1 para aplicar linha a linha\n",
    "games['user_score'] = games.apply(user_score,axis=1)\n",
    "games.isna().sum()"
   ]
  },
  {
   "cell_type": "code",
   "execution_count": 20,
   "id": "78380d30",
   "metadata": {},
   "outputs": [
    {
     "name": "stdout",
     "output_type": "stream",
     "text": [
      "<class 'pandas.core.frame.DataFrame'>\n",
      "Int64Index: 16713 entries, 0 to 16714\n",
      "Data columns (total 11 columns):\n",
      " #   Column           Non-Null Count  Dtype  \n",
      "---  ------           --------------  -----  \n",
      " 0   name             16713 non-null  object \n",
      " 1   platform         16713 non-null  object \n",
      " 2   year_of_release  16713 non-null  int32  \n",
      " 3   genre            16713 non-null  object \n",
      " 4   na_sales         16713 non-null  float64\n",
      " 5   eu_sales         16713 non-null  float64\n",
      " 6   jp_sales         16713 non-null  float64\n",
      " 7   other_sales      16713 non-null  float64\n",
      " 8   critic_score     16713 non-null  float64\n",
      " 9   user_score       16713 non-null  float64\n",
      " 10  rating           9949 non-null   object \n",
      "dtypes: float64(6), int32(1), object(4)\n",
      "memory usage: 1.5+ MB\n"
     ]
    }
   ],
   "source": [
    "games.info()"
   ]
  },
  {
   "cell_type": "code",
   "execution_count": 21,
   "id": "d01cf144",
   "metadata": {
    "scrolled": true
   },
   "outputs": [
    {
     "data": {
      "text/plain": [
       "name               0\n",
       "platform           0\n",
       "year_of_release    0\n",
       "genre              0\n",
       "na_sales           0\n",
       "eu_sales           0\n",
       "jp_sales           0\n",
       "other_sales        0\n",
       "critic_score       0\n",
       "user_score         0\n",
       "rating             0\n",
       "dtype: int64"
      ]
     },
     "execution_count": 21,
     "metadata": {},
     "output_type": "execute_result"
    }
   ],
   "source": [
    "# Criando um agrupamento e transformando ela em um dicionário com o to_dict\n",
    "plat_year = games.groupby('genre')['rating'].agg(pd.Series.mode).to_dict()\n",
    "# Criando função para substituir os valores nulos do rating de lançamento pela mediana do ano baseado na genre\n",
    "def rating(x):\n",
    "    # vendo se é um valor nulo\n",
    "    if pd.isna(x['rating']):\n",
    "        # Pegando a mediana do ano baseada na genre\n",
    "        return plat_year.get(x['genre'])\n",
    "    \n",
    "    else:\n",
    "        # Retornando apenas o ano para valores que não estão ausentes\n",
    "        return x['rating']\n",
    "# Aplicando a função e usando o axis=1 para aplicar linha a linha\n",
    "games['rating'] = games.apply(rating,axis=1)\n",
    "games.isna().sum()"
   ]
  },
  {
   "cell_type": "markdown",
   "id": "37016927",
   "metadata": {},
   "source": [
    "### Explique por que você preencheu os valores ausentes da forma que você fez ou por que você decidiu deixá-los em branco."
   ]
  },
  {
   "cell_type": "markdown",
   "id": "73ddfe14",
   "metadata": {},
   "source": [
    "Eu preenche os dados ausentes para conseguir ter uma analise mais apurada. "
   ]
  },
  {
   "cell_type": "markdown",
   "id": "e36231fc",
   "metadata": {},
   "source": [
    "### Por que acha que os valores estão ausentes? Dê possíveis razões."
   ]
  },
  {
   "cell_type": "markdown",
   "id": "69d336e8",
   "metadata": {},
   "source": [
    "- Para coluna `year_of_release` deve ter tido algum problema na formação dos dados ou coleta deles.\n",
    "- Nas demais colunas creio que houve a falta de inserção desses dados, por exemplo na coluna `user_score` deve ter falta de analises dos usuarios neste jogos que estão ausentes. Em geral, consumidores dão nota com pouca frequencia."
   ]
  },
  {
   "cell_type": "markdown",
   "id": "5a3b369b",
   "metadata": {},
   "source": [
    "### Calcule o total de vendas (a soma das vendas em todas as regiões) para cada jogo e coloque esses valores em uma coluna separada."
   ]
  },
  {
   "cell_type": "code",
   "execution_count": 22,
   "id": "9a4acb44",
   "metadata": {},
   "outputs": [
    {
     "data": {
      "text/html": [
       "<div>\n",
       "<style scoped>\n",
       "    .dataframe tbody tr th:only-of-type {\n",
       "        vertical-align: middle;\n",
       "    }\n",
       "\n",
       "    .dataframe tbody tr th {\n",
       "        vertical-align: top;\n",
       "    }\n",
       "\n",
       "    .dataframe thead th {\n",
       "        text-align: right;\n",
       "    }\n",
       "</style>\n",
       "<table border=\"1\" class=\"dataframe\">\n",
       "  <thead>\n",
       "    <tr style=\"text-align: right;\">\n",
       "      <th></th>\n",
       "      <th>name</th>\n",
       "      <th>platform</th>\n",
       "      <th>year_of_release</th>\n",
       "      <th>genre</th>\n",
       "      <th>na_sales</th>\n",
       "      <th>eu_sales</th>\n",
       "      <th>jp_sales</th>\n",
       "      <th>other_sales</th>\n",
       "      <th>critic_score</th>\n",
       "      <th>user_score</th>\n",
       "      <th>rating</th>\n",
       "      <th>revenue_total_regions</th>\n",
       "    </tr>\n",
       "  </thead>\n",
       "  <tbody>\n",
       "    <tr>\n",
       "      <th>0</th>\n",
       "      <td>wii sports</td>\n",
       "      <td>wii</td>\n",
       "      <td>2006</td>\n",
       "      <td>sports</td>\n",
       "      <td>41.36</td>\n",
       "      <td>28.96</td>\n",
       "      <td>3.77</td>\n",
       "      <td>8.45</td>\n",
       "      <td>76.0</td>\n",
       "      <td>8.0</td>\n",
       "      <td>e</td>\n",
       "      <td>82.54</td>\n",
       "    </tr>\n",
       "    <tr>\n",
       "      <th>1</th>\n",
       "      <td>super mario bros.</td>\n",
       "      <td>nes</td>\n",
       "      <td>1985</td>\n",
       "      <td>platform</td>\n",
       "      <td>29.08</td>\n",
       "      <td>3.58</td>\n",
       "      <td>6.81</td>\n",
       "      <td>0.77</td>\n",
       "      <td>69.0</td>\n",
       "      <td>7.7</td>\n",
       "      <td>e</td>\n",
       "      <td>40.24</td>\n",
       "    </tr>\n",
       "    <tr>\n",
       "      <th>2</th>\n",
       "      <td>mario kart wii</td>\n",
       "      <td>wii</td>\n",
       "      <td>2008</td>\n",
       "      <td>racing</td>\n",
       "      <td>15.68</td>\n",
       "      <td>12.76</td>\n",
       "      <td>3.79</td>\n",
       "      <td>3.29</td>\n",
       "      <td>82.0</td>\n",
       "      <td>8.3</td>\n",
       "      <td>e</td>\n",
       "      <td>35.52</td>\n",
       "    </tr>\n",
       "    <tr>\n",
       "      <th>3</th>\n",
       "      <td>wii sports resort</td>\n",
       "      <td>wii</td>\n",
       "      <td>2009</td>\n",
       "      <td>sports</td>\n",
       "      <td>15.61</td>\n",
       "      <td>10.93</td>\n",
       "      <td>3.28</td>\n",
       "      <td>2.95</td>\n",
       "      <td>80.0</td>\n",
       "      <td>8.0</td>\n",
       "      <td>e</td>\n",
       "      <td>32.77</td>\n",
       "    </tr>\n",
       "    <tr>\n",
       "      <th>4</th>\n",
       "      <td>pokemon red/pokemon blue</td>\n",
       "      <td>gb</td>\n",
       "      <td>1996</td>\n",
       "      <td>role-playing</td>\n",
       "      <td>11.27</td>\n",
       "      <td>8.89</td>\n",
       "      <td>10.22</td>\n",
       "      <td>1.00</td>\n",
       "      <td>74.0</td>\n",
       "      <td>7.8</td>\n",
       "      <td>t</td>\n",
       "      <td>31.38</td>\n",
       "    </tr>\n",
       "  </tbody>\n",
       "</table>\n",
       "</div>"
      ],
      "text/plain": [
       "                       name platform  year_of_release         genre  na_sales  \\\n",
       "0                wii sports      wii             2006        sports     41.36   \n",
       "1         super mario bros.      nes             1985      platform     29.08   \n",
       "2            mario kart wii      wii             2008        racing     15.68   \n",
       "3         wii sports resort      wii             2009        sports     15.61   \n",
       "4  pokemon red/pokemon blue       gb             1996  role-playing     11.27   \n",
       "\n",
       "   eu_sales  jp_sales  other_sales  critic_score  user_score rating  \\\n",
       "0     28.96      3.77         8.45          76.0         8.0      e   \n",
       "1      3.58      6.81         0.77          69.0         7.7      e   \n",
       "2     12.76      3.79         3.29          82.0         8.3      e   \n",
       "3     10.93      3.28         2.95          80.0         8.0      e   \n",
       "4      8.89     10.22         1.00          74.0         7.8      t   \n",
       "\n",
       "   revenue_total_regions  \n",
       "0                  82.54  \n",
       "1                  40.24  \n",
       "2                  35.52  \n",
       "3                  32.77  \n",
       "4                  31.38  "
      ]
     },
     "execution_count": 22,
     "metadata": {},
     "output_type": "execute_result"
    }
   ],
   "source": [
    "games['revenue_total_regions'] = games['na_sales'] + games['eu_sales'] + games['jp_sales'] + games['other_sales']\n",
    "games.head()"
   ]
  },
  {
   "cell_type": "markdown",
   "id": "8d442094",
   "metadata": {},
   "source": [
    "## Analise os dados"
   ]
  },
  {
   "cell_type": "markdown",
   "id": "f9433633",
   "metadata": {},
   "source": [
    "### Veja quantos jogos foram lançados em anos diferentes. Os dados de cada período são significativos?"
   ]
  },
  {
   "cell_type": "code",
   "execution_count": 23,
   "id": "10056c92",
   "metadata": {},
   "outputs": [
    {
     "data": {
      "text/html": [
       "<div>\n",
       "<style scoped>\n",
       "    .dataframe tbody tr th:only-of-type {\n",
       "        vertical-align: middle;\n",
       "    }\n",
       "\n",
       "    .dataframe tbody tr th {\n",
       "        vertical-align: top;\n",
       "    }\n",
       "\n",
       "    .dataframe thead th {\n",
       "        text-align: right;\n",
       "    }\n",
       "</style>\n",
       "<table border=\"1\" class=\"dataframe\">\n",
       "  <thead>\n",
       "    <tr style=\"text-align: right;\">\n",
       "      <th></th>\n",
       "      <th>year_of_release</th>\n",
       "      <th>count</th>\n",
       "    </tr>\n",
       "  </thead>\n",
       "  <tbody>\n",
       "    <tr>\n",
       "      <th>29</th>\n",
       "      <td>2009</td>\n",
       "      <td>1476</td>\n",
       "    </tr>\n",
       "    <tr>\n",
       "      <th>28</th>\n",
       "      <td>2008</td>\n",
       "      <td>1457</td>\n",
       "    </tr>\n",
       "    <tr>\n",
       "      <th>30</th>\n",
       "      <td>2010</td>\n",
       "      <td>1302</td>\n",
       "    </tr>\n",
       "    <tr>\n",
       "      <th>27</th>\n",
       "      <td>2007</td>\n",
       "      <td>1197</td>\n",
       "    </tr>\n",
       "    <tr>\n",
       "      <th>31</th>\n",
       "      <td>2011</td>\n",
       "      <td>1161</td>\n",
       "    </tr>\n",
       "    <tr>\n",
       "      <th>26</th>\n",
       "      <td>2006</td>\n",
       "      <td>1006</td>\n",
       "    </tr>\n",
       "    <tr>\n",
       "      <th>25</th>\n",
       "      <td>2005</td>\n",
       "      <td>973</td>\n",
       "    </tr>\n",
       "    <tr>\n",
       "      <th>22</th>\n",
       "      <td>2002</td>\n",
       "      <td>829</td>\n",
       "    </tr>\n",
       "    <tr>\n",
       "      <th>23</th>\n",
       "      <td>2003</td>\n",
       "      <td>800</td>\n",
       "    </tr>\n",
       "    <tr>\n",
       "      <th>24</th>\n",
       "      <td>2004</td>\n",
       "      <td>783</td>\n",
       "    </tr>\n",
       "    <tr>\n",
       "      <th>32</th>\n",
       "      <td>2012</td>\n",
       "      <td>653</td>\n",
       "    </tr>\n",
       "    <tr>\n",
       "      <th>35</th>\n",
       "      <td>2015</td>\n",
       "      <td>606</td>\n",
       "    </tr>\n",
       "    <tr>\n",
       "      <th>34</th>\n",
       "      <td>2014</td>\n",
       "      <td>582</td>\n",
       "    </tr>\n",
       "    <tr>\n",
       "      <th>33</th>\n",
       "      <td>2013</td>\n",
       "      <td>552</td>\n",
       "    </tr>\n",
       "    <tr>\n",
       "      <th>36</th>\n",
       "      <td>2016</td>\n",
       "      <td>502</td>\n",
       "    </tr>\n",
       "    <tr>\n",
       "      <th>21</th>\n",
       "      <td>2001</td>\n",
       "      <td>482</td>\n",
       "    </tr>\n",
       "    <tr>\n",
       "      <th>18</th>\n",
       "      <td>1998</td>\n",
       "      <td>386</td>\n",
       "    </tr>\n",
       "    <tr>\n",
       "      <th>20</th>\n",
       "      <td>2000</td>\n",
       "      <td>350</td>\n",
       "    </tr>\n",
       "    <tr>\n",
       "      <th>19</th>\n",
       "      <td>1999</td>\n",
       "      <td>341</td>\n",
       "    </tr>\n",
       "    <tr>\n",
       "      <th>17</th>\n",
       "      <td>1997</td>\n",
       "      <td>290</td>\n",
       "    </tr>\n",
       "    <tr>\n",
       "      <th>16</th>\n",
       "      <td>1996</td>\n",
       "      <td>263</td>\n",
       "    </tr>\n",
       "    <tr>\n",
       "      <th>15</th>\n",
       "      <td>1995</td>\n",
       "      <td>219</td>\n",
       "    </tr>\n",
       "    <tr>\n",
       "      <th>14</th>\n",
       "      <td>1994</td>\n",
       "      <td>121</td>\n",
       "    </tr>\n",
       "    <tr>\n",
       "      <th>13</th>\n",
       "      <td>1993</td>\n",
       "      <td>60</td>\n",
       "    </tr>\n",
       "    <tr>\n",
       "      <th>2</th>\n",
       "      <td>1982</td>\n",
       "      <td>53</td>\n",
       "    </tr>\n",
       "    <tr>\n",
       "      <th>1</th>\n",
       "      <td>1981</td>\n",
       "      <td>46</td>\n",
       "    </tr>\n",
       "    <tr>\n",
       "      <th>12</th>\n",
       "      <td>1992</td>\n",
       "      <td>43</td>\n",
       "    </tr>\n",
       "    <tr>\n",
       "      <th>11</th>\n",
       "      <td>1991</td>\n",
       "      <td>41</td>\n",
       "    </tr>\n",
       "    <tr>\n",
       "      <th>6</th>\n",
       "      <td>1986</td>\n",
       "      <td>21</td>\n",
       "    </tr>\n",
       "    <tr>\n",
       "      <th>9</th>\n",
       "      <td>1989</td>\n",
       "      <td>17</td>\n",
       "    </tr>\n",
       "    <tr>\n",
       "      <th>3</th>\n",
       "      <td>1983</td>\n",
       "      <td>17</td>\n",
       "    </tr>\n",
       "    <tr>\n",
       "      <th>10</th>\n",
       "      <td>1990</td>\n",
       "      <td>16</td>\n",
       "    </tr>\n",
       "    <tr>\n",
       "      <th>7</th>\n",
       "      <td>1987</td>\n",
       "      <td>16</td>\n",
       "    </tr>\n",
       "    <tr>\n",
       "      <th>8</th>\n",
       "      <td>1988</td>\n",
       "      <td>15</td>\n",
       "    </tr>\n",
       "    <tr>\n",
       "      <th>5</th>\n",
       "      <td>1985</td>\n",
       "      <td>14</td>\n",
       "    </tr>\n",
       "    <tr>\n",
       "      <th>4</th>\n",
       "      <td>1984</td>\n",
       "      <td>14</td>\n",
       "    </tr>\n",
       "    <tr>\n",
       "      <th>0</th>\n",
       "      <td>1980</td>\n",
       "      <td>9</td>\n",
       "    </tr>\n",
       "  </tbody>\n",
       "</table>\n",
       "</div>"
      ],
      "text/plain": [
       "    year_of_release  count\n",
       "29             2009   1476\n",
       "28             2008   1457\n",
       "30             2010   1302\n",
       "27             2007   1197\n",
       "31             2011   1161\n",
       "26             2006   1006\n",
       "25             2005    973\n",
       "22             2002    829\n",
       "23             2003    800\n",
       "24             2004    783\n",
       "32             2012    653\n",
       "35             2015    606\n",
       "34             2014    582\n",
       "33             2013    552\n",
       "36             2016    502\n",
       "21             2001    482\n",
       "18             1998    386\n",
       "20             2000    350\n",
       "19             1999    341\n",
       "17             1997    290\n",
       "16             1996    263\n",
       "15             1995    219\n",
       "14             1994    121\n",
       "13             1993     60\n",
       "2              1982     53\n",
       "1              1981     46\n",
       "12             1992     43\n",
       "11             1991     41\n",
       "6              1986     21\n",
       "9              1989     17\n",
       "3              1983     17\n",
       "10             1990     16\n",
       "7              1987     16\n",
       "8              1988     15\n",
       "5              1985     14\n",
       "4              1984     14\n",
       "0              1980      9"
      ]
     },
     "execution_count": 23,
     "metadata": {},
     "output_type": "execute_result"
    }
   ],
   "source": [
    "# Criando uma pivot_table com o ano e a quantidades de jogos lançadas por ano\n",
    "games_year = games.pivot_table(index='year_of_release',\n",
    "                               values='name',\n",
    "                               aggfunc='count').rename(columns={\n",
    "                                   'name': 'count'\n",
    "                               }).reset_index()\n",
    "# Ordenando a coluna 'count' para ver os anos com mais lançamentos\n",
    "games_year.sort_values(by='count', ascending=False)"
   ]
  },
  {
   "cell_type": "code",
   "execution_count": 24,
   "id": "ed790263",
   "metadata": {},
   "outputs": [
    {
     "data": {
      "image/png": "[encoded data removed]",
      "text/plain": [
       "<Figure size 1440x720 with 1 Axes>"
      ]
     },
     "metadata": {
      "needs_background": "light"
     },
     "output_type": "display_data"
    }
   ],
   "source": [
    "# Criando gráfico de barra\n",
    "games_year.plot(kind='bar',x='year_of_release',y='count',figsize=(20,10))\n",
    "plt.title('sales per years')\n",
    "plt.xlabel('years')\n",
    "plt.ylabel('count')\n",
    "plt.show()"
   ]
  },
  {
   "cell_type": "markdown",
   "id": "53d1dd6c",
   "metadata": {},
   "source": [
    "Podemos ver um crescimento no ano de 1994 quando ele dobra o número jogos lançados comparado ao ano anterior, logo após isso temos 2002 como um marco grandioso supernado até anos seguinte em número de lançamentos de jogos, mas não são todos os periodos que temos uma diferença significativa temos por exemplo os anos de 1989 e 1983 com a mesma quantidade de jogos lançados que são 17."
   ]
  },
  {
   "cell_type": "markdown",
   "id": "633aa131",
   "metadata": {},
   "source": [
    "### Veja como as vendas variaram de plataforma para plataforma. Escolha as plataformas com as maiores vendas totais e construa uma distribuição com base em dados para cada ano. Encontre as plataformas que costumavam ser populares, mas agora não têm vendas. Quanto tempo leva para as novas plataformas aparecerem e as antigas desaparecerem?"
   ]
  },
  {
   "cell_type": "code",
   "execution_count": 25,
   "id": "ecb47ba2",
   "metadata": {},
   "outputs": [
    {
     "data": {
      "text/html": [
       "<div>\n",
       "<style scoped>\n",
       "    .dataframe tbody tr th:only-of-type {\n",
       "        vertical-align: middle;\n",
       "    }\n",
       "\n",
       "    .dataframe tbody tr th {\n",
       "        vertical-align: top;\n",
       "    }\n",
       "\n",
       "    .dataframe thead th {\n",
       "        text-align: right;\n",
       "    }\n",
       "</style>\n",
       "<table border=\"1\" class=\"dataframe\">\n",
       "  <thead>\n",
       "    <tr style=\"text-align: right;\">\n",
       "      <th></th>\n",
       "      <th>revenue_total_regions</th>\n",
       "    </tr>\n",
       "    <tr>\n",
       "      <th>platform</th>\n",
       "      <th></th>\n",
       "    </tr>\n",
       "  </thead>\n",
       "  <tbody>\n",
       "    <tr>\n",
       "      <th>ps2</th>\n",
       "      <td>1255.77</td>\n",
       "    </tr>\n",
       "    <tr>\n",
       "      <th>x360</th>\n",
       "      <td>971.42</td>\n",
       "    </tr>\n",
       "    <tr>\n",
       "      <th>ps3</th>\n",
       "      <td>939.65</td>\n",
       "    </tr>\n",
       "    <tr>\n",
       "      <th>wii</th>\n",
       "      <td>907.51</td>\n",
       "    </tr>\n",
       "  </tbody>\n",
       "</table>\n",
       "</div>"
      ],
      "text/plain": [
       "          revenue_total_regions\n",
       "platform                       \n",
       "ps2                     1255.77\n",
       "x360                     971.42\n",
       "ps3                      939.65\n",
       "wii                      907.51"
      ]
     },
     "execution_count": 25,
     "metadata": {},
     "output_type": "execute_result"
    }
   ],
   "source": [
    "# Criando pivot_table para saber o total de vendas por plataforma e deixa-lás ordenadas\n",
    "platform_sales = games.pivot_table(index='platform',\n",
    "                                   values='revenue_total_regions',\n",
    "                                   aggfunc='sum').sort_values(\n",
    "                                       by='revenue_total_regions',\n",
    "                                       ascending=False)\n",
    "top_4 = platform_sales.head(4)\n",
    "top_4"
   ]
  },
  {
   "cell_type": "code",
   "execution_count": 26,
   "id": "69e6be9f",
   "metadata": {},
   "outputs": [
    {
     "data": {
      "text/html": [
       "<div>\n",
       "<style scoped>\n",
       "    .dataframe tbody tr th:only-of-type {\n",
       "        vertical-align: middle;\n",
       "    }\n",
       "\n",
       "    .dataframe tbody tr th {\n",
       "        vertical-align: top;\n",
       "    }\n",
       "\n",
       "    .dataframe thead th {\n",
       "        text-align: right;\n",
       "    }\n",
       "</style>\n",
       "<table border=\"1\" class=\"dataframe\">\n",
       "  <thead>\n",
       "    <tr style=\"text-align: right;\">\n",
       "      <th></th>\n",
       "      <th>platform</th>\n",
       "      <th>year_of_release</th>\n",
       "      <th>revenue_total_regions</th>\n",
       "    </tr>\n",
       "  </thead>\n",
       "  <tbody>\n",
       "    <tr>\n",
       "      <th>233</th>\n",
       "      <td>ps2</td>\n",
       "      <td>2005</td>\n",
       "      <td>182.87</td>\n",
       "    </tr>\n",
       "    <tr>\n",
       "      <th>234</th>\n",
       "      <td>ps2</td>\n",
       "      <td>2003</td>\n",
       "      <td>184.31</td>\n",
       "    </tr>\n",
       "    <tr>\n",
       "      <th>235</th>\n",
       "      <td>ps2</td>\n",
       "      <td>2002</td>\n",
       "      <td>205.38</td>\n",
       "    </tr>\n",
       "    <tr>\n",
       "      <th>236</th>\n",
       "      <td>ps2</td>\n",
       "      <td>2004</td>\n",
       "      <td>211.81</td>\n",
       "    </tr>\n",
       "    <tr>\n",
       "      <th>237</th>\n",
       "      <td>wii</td>\n",
       "      <td>2009</td>\n",
       "      <td>223.30</td>\n",
       "    </tr>\n",
       "  </tbody>\n",
       "</table>\n",
       "</div>"
      ],
      "text/plain": [
       "    platform  year_of_release  revenue_total_regions\n",
       "233      ps2             2005                 182.87\n",
       "234      ps2             2003                 184.31\n",
       "235      ps2             2002                 205.38\n",
       "236      ps2             2004                 211.81\n",
       "237      wii             2009                 223.30"
      ]
     },
     "execution_count": 26,
     "metadata": {},
     "output_type": "execute_result"
    }
   ],
   "source": [
    "# Criando pivot_table para saber os anos que as principais plataformas duram\n",
    "platform_sales_years = games.pivot_table(index=['platform','year_of_release'],\n",
    "                                   values='revenue_total_regions',\n",
    "                                   aggfunc='sum').sort_values(by='revenue_total_regions').reset_index()\n",
    "platform_sales_years.tail()"
   ]
  },
  {
   "cell_type": "code",
   "execution_count": 27,
   "id": "23d6d56a",
   "metadata": {},
   "outputs": [],
   "source": [
    "# Filtrando para obter as top 4 plataformas\n",
    "ps2 = platform_sales_years.loc[platform_sales_years['platform']=='ps2']\n",
    "x360 = platform_sales_years.loc[platform_sales_years['platform']=='x360']\n",
    "ps3 = platform_sales_years.loc[platform_sales_years['platform']=='ps3']\n",
    "wii = platform_sales_years.loc[platform_sales_years['platform']=='wii']"
   ]
  },
  {
   "cell_type": "code",
   "execution_count": 28,
   "id": "bfbe6c9b",
   "metadata": {},
   "outputs": [
    {
     "data": {
      "text/plain": [
       "11.5"
      ]
     },
     "execution_count": 28,
     "metadata": {},
     "output_type": "execute_result"
    }
   ],
   "source": [
    "# Calculando a média de anos que as principais plataformas tiveram vendas\n",
    "median_0sales = (len(ps2)+len(x360)+len(ps3)+len(wii))/4\n",
    "median_0sales"
   ]
  },
  {
   "cell_type": "code",
   "execution_count": 29,
   "id": "fe62637b",
   "metadata": {},
   "outputs": [
    {
     "data": {
      "image/png": "[encoded data removed]",
      "text/plain": [
       "<Figure size 720x360 with 1 Axes>"
      ]
     },
     "metadata": {
      "needs_background": "light"
     },
     "output_type": "display_data"
    },
    {
     "data": {
      "image/png": "[encoded data removed]",
      "text/plain": [
       "<Figure size 720x360 with 1 Axes>"
      ]
     },
     "metadata": {
      "needs_background": "light"
     },
     "output_type": "display_data"
    },
    {
     "data": {
      "image/png": "[encoded data removed]",
      "text/plain": [
       "<Figure size 720x360 with 1 Axes>"
      ]
     },
     "metadata": {
      "needs_background": "light"
     },
     "output_type": "display_data"
    },
    {
     "data": {
      "image/png": "[encoded data removed]",
      "text/plain": [
       "<Figure size 720x360 with 1 Axes>"
      ]
     },
     "metadata": {
      "needs_background": "light"
     },
     "output_type": "display_data"
    }
   ],
   "source": [
    "# Fazendo laço for para imprimir gráfico de vendas por ano\n",
    "for top in top_4.index:\n",
    "    # Pegando as linhas da tabela games que tem as plataformas iguais a tabela top\n",
    "    fatia = games[games['platform'] == top]\n",
    "    # Craindo pivot_table e plotando o gráfico\n",
    "    fatia.pivot_table(index='year_of_release',\n",
    "                      values='revenue_total_regions',\n",
    "                      aggfunc='sum').plot(kind='bar', figsize=(10, 5))\n",
    "    plt.title(f\"Gráfico de vendas por ano da plataforma {top}\")\n",
    "    plt.ylabel('Vendas totais')\n",
    "    plt.show()"
   ]
  },
  {
   "cell_type": "markdown",
   "id": "6b1b11e5",
   "metadata": {},
   "source": [
    "As plataformas tem uma duração média de 11 anos, e o tempo para uma nova plataforma surgir e outra desaparecer é de cerca de 7 anos."
   ]
  },
  {
   "cell_type": "markdown",
   "id": "79b011ac",
   "metadata": {},
   "source": [
    "### Determine para qual período você deve pegar dados. Para fazê-lo, olhe para suas respostas para as perguntas anteriores. Os dados te deveriam permitir construir um modelo para 2017."
   ]
  },
  {
   "cell_type": "markdown",
   "id": "b197e91e",
   "metadata": {},
   "source": [
    "Vamos lidar com o ano de 2002 para frente pois a partir desse ano obvemos os maiores resultados de vendas, e temos uma distribution shift."
   ]
  },
  {
   "cell_type": "markdown",
   "id": "627c7544",
   "metadata": {},
   "source": [
    "### Trabalhar apenas com os dados que você decidiu que são relevantes. Desconsidere os dados de anos anteriores."
   ]
  },
  {
   "cell_type": "code",
   "execution_count": 30,
   "id": "c8ef5680",
   "metadata": {},
   "outputs": [],
   "source": [
    "# Filtrando dados apartir de 2002\n",
    "games_2002 = games[games['year_of_release']>=2002]"
   ]
  },
  {
   "cell_type": "markdown",
   "id": "73f8fddc",
   "metadata": {},
   "source": [
    "### Quais plataformas estão liderando em vendas? Quais estão crescendo ou diminuindo? Selecione várias plataformas potencialmente lucrativas."
   ]
  },
  {
   "cell_type": "code",
   "execution_count": 31,
   "id": "d7a010c3",
   "metadata": {},
   "outputs": [
    {
     "data": {
      "text/html": [
       "<div>\n",
       "<style scoped>\n",
       "    .dataframe tbody tr th:only-of-type {\n",
       "        vertical-align: middle;\n",
       "    }\n",
       "\n",
       "    .dataframe tbody tr th {\n",
       "        vertical-align: top;\n",
       "    }\n",
       "\n",
       "    .dataframe thead th {\n",
       "        text-align: right;\n",
       "    }\n",
       "</style>\n",
       "<table border=\"1\" class=\"dataframe\">\n",
       "  <thead>\n",
       "    <tr style=\"text-align: right;\">\n",
       "      <th></th>\n",
       "      <th>revenue_total_regions</th>\n",
       "    </tr>\n",
       "    <tr>\n",
       "      <th>platform</th>\n",
       "      <th></th>\n",
       "    </tr>\n",
       "  </thead>\n",
       "  <tbody>\n",
       "    <tr>\n",
       "      <th>ps2</th>\n",
       "      <td>1050.17</td>\n",
       "    </tr>\n",
       "    <tr>\n",
       "      <th>x360</th>\n",
       "      <td>971.42</td>\n",
       "    </tr>\n",
       "    <tr>\n",
       "      <th>ps3</th>\n",
       "      <td>939.65</td>\n",
       "    </tr>\n",
       "    <tr>\n",
       "      <th>wii</th>\n",
       "      <td>907.51</td>\n",
       "    </tr>\n",
       "    <tr>\n",
       "      <th>ds</th>\n",
       "      <td>806.10</td>\n",
       "    </tr>\n",
       "    <tr>\n",
       "      <th>ps4</th>\n",
       "      <td>314.14</td>\n",
       "    </tr>\n",
       "    <tr>\n",
       "      <th>psp</th>\n",
       "      <td>294.05</td>\n",
       "    </tr>\n",
       "    <tr>\n",
       "      <th>3ds</th>\n",
       "      <td>259.00</td>\n",
       "    </tr>\n",
       "    <tr>\n",
       "      <th>gba</th>\n",
       "      <td>256.25</td>\n",
       "    </tr>\n",
       "    <tr>\n",
       "      <th>xb</th>\n",
       "      <td>234.49</td>\n",
       "    </tr>\n",
       "    <tr>\n",
       "      <th>pc</th>\n",
       "      <td>199.35</td>\n",
       "    </tr>\n",
       "    <tr>\n",
       "      <th>gc</th>\n",
       "      <td>172.59</td>\n",
       "    </tr>\n",
       "    <tr>\n",
       "      <th>xone</th>\n",
       "      <td>159.32</td>\n",
       "    </tr>\n",
       "    <tr>\n",
       "      <th>wiiu</th>\n",
       "      <td>82.19</td>\n",
       "    </tr>\n",
       "    <tr>\n",
       "      <th>psv</th>\n",
       "      <td>54.07</td>\n",
       "    </tr>\n",
       "    <tr>\n",
       "      <th>ps</th>\n",
       "      <td>8.74</td>\n",
       "    </tr>\n",
       "    <tr>\n",
       "      <th>dc</th>\n",
       "      <td>0.35</td>\n",
       "    </tr>\n",
       "    <tr>\n",
       "      <th>n64</th>\n",
       "      <td>0.08</td>\n",
       "    </tr>\n",
       "  </tbody>\n",
       "</table>\n",
       "</div>"
      ],
      "text/plain": [
       "          revenue_total_regions\n",
       "platform                       \n",
       "ps2                     1050.17\n",
       "x360                     971.42\n",
       "ps3                      939.65\n",
       "wii                      907.51\n",
       "ds                       806.10\n",
       "ps4                      314.14\n",
       "psp                      294.05\n",
       "3ds                      259.00\n",
       "gba                      256.25\n",
       "xb                       234.49\n",
       "pc                       199.35\n",
       "gc                       172.59\n",
       "xone                     159.32\n",
       "wiiu                      82.19\n",
       "psv                       54.07\n",
       "ps                         8.74\n",
       "dc                         0.35\n",
       "n64                        0.08"
      ]
     },
     "execution_count": 31,
     "metadata": {},
     "output_type": "execute_result"
    }
   ],
   "source": [
    "# Criando pivot table para ver as plafarmos com jogos mais vendidos\n",
    "games_2002.pivot_table(index='platform',\n",
    "                       values='revenue_total_regions',\n",
    "                       aggfunc='sum').sort_values(by='revenue_total_regions',\n",
    "                                                  ascending=False)"
   ]
  },
  {
   "cell_type": "code",
   "execution_count": 32,
   "id": "c5f2f65b",
   "metadata": {},
   "outputs": [
    {
     "data": {
      "text/html": [
       "<div>\n",
       "<style scoped>\n",
       "    .dataframe tbody tr th:only-of-type {\n",
       "        vertical-align: middle;\n",
       "    }\n",
       "\n",
       "    .dataframe tbody tr th {\n",
       "        vertical-align: top;\n",
       "    }\n",
       "\n",
       "    .dataframe thead th {\n",
       "        text-align: right;\n",
       "    }\n",
       "</style>\n",
       "<table border=\"1\" class=\"dataframe\">\n",
       "  <thead>\n",
       "    <tr style=\"text-align: right;\">\n",
       "      <th></th>\n",
       "      <th>platform</th>\n",
       "      <th>year_of_release</th>\n",
       "      <th>revenue_total_regions</th>\n",
       "    </tr>\n",
       "  </thead>\n",
       "  <tbody>\n",
       "    <tr>\n",
       "      <th>94</th>\n",
       "      <td>ps4</td>\n",
       "      <td>2016</td>\n",
       "      <td>69.25</td>\n",
       "    </tr>\n",
       "    <tr>\n",
       "      <th>62</th>\n",
       "      <td>xone</td>\n",
       "      <td>2016</td>\n",
       "      <td>26.15</td>\n",
       "    </tr>\n",
       "    <tr>\n",
       "      <th>47</th>\n",
       "      <td>3ds</td>\n",
       "      <td>2016</td>\n",
       "      <td>15.14</td>\n",
       "    </tr>\n",
       "    <tr>\n",
       "      <th>24</th>\n",
       "      <td>pc</td>\n",
       "      <td>2016</td>\n",
       "      <td>5.25</td>\n",
       "    </tr>\n",
       "    <tr>\n",
       "      <th>22</th>\n",
       "      <td>wiiu</td>\n",
       "      <td>2016</td>\n",
       "      <td>4.60</td>\n",
       "    </tr>\n",
       "    <tr>\n",
       "      <th>20</th>\n",
       "      <td>psv</td>\n",
       "      <td>2016</td>\n",
       "      <td>4.25</td>\n",
       "    </tr>\n",
       "    <tr>\n",
       "      <th>18</th>\n",
       "      <td>ps3</td>\n",
       "      <td>2016</td>\n",
       "      <td>3.60</td>\n",
       "    </tr>\n",
       "    <tr>\n",
       "      <th>12</th>\n",
       "      <td>x360</td>\n",
       "      <td>2016</td>\n",
       "      <td>1.52</td>\n",
       "    </tr>\n",
       "    <tr>\n",
       "      <th>4</th>\n",
       "      <td>wii</td>\n",
       "      <td>2016</td>\n",
       "      <td>0.18</td>\n",
       "    </tr>\n",
       "  </tbody>\n",
       "</table>\n",
       "</div>"
      ],
      "text/plain": [
       "   platform  year_of_release  revenue_total_regions\n",
       "94      ps4             2016                  69.25\n",
       "62     xone             2016                  26.15\n",
       "47      3ds             2016                  15.14\n",
       "24       pc             2016                   5.25\n",
       "22     wiiu             2016                   4.60\n",
       "20      psv             2016                   4.25\n",
       "18      ps3             2016                   3.60\n",
       "12     x360             2016                   1.52\n",
       "4       wii             2016                   0.18"
      ]
     },
     "execution_count": 32,
     "metadata": {},
     "output_type": "execute_result"
    }
   ],
   "source": [
    "# Criando pivot table para ver as plafarmos com jogos mais vendidos\n",
    "revenue_games_2015 = games_2002.pivot_table(\n",
    "    index=['platform', 'year_of_release'],\n",
    "    values='revenue_total_regions',\n",
    "    aggfunc='sum').sort_values(by='revenue_total_regions').reset_index()\n",
    "# Filtrando anos apartir de 2015 para ver qual tem maior número de jogos vendidos mais recentemente\n",
    "revenue_games_2015[revenue_games_2015['year_of_release'] > 2015].sort_values(\n",
    "    by=['revenue_total_regions', 'year_of_release'], ascending=False)"
   ]
  },
  {
   "cell_type": "markdown",
   "id": "d935f441",
   "metadata": {},
   "source": [
    "As plataformas que lideram em vendas são a partir de 2002: ps2, x360, ps3, wii.\n",
    "Mais recentemente tivemos o crescimento de duas plataformas xone e ps4 e atualmente elas são as mais lucrativas estando um pouco atrás o 3ds."
   ]
  },
  {
   "cell_type": "markdown",
   "id": "281e618e",
   "metadata": {},
   "source": [
    "### Construa um diagrama de caixa para as vendas globais de todos os jogos, divididos por plataforma. As diferenças nas vendas são significativas? E quanto às vendas médias em várias plataformas? Descreva suas descobertas."
   ]
  },
  {
   "cell_type": "code",
   "execution_count": 33,
   "id": "b5e6f8ae",
   "metadata": {},
   "outputs": [
    {
     "data": {
      "image/png": "[encoded data removed]",
      "text/plain": [
       "<Figure size 1440x720 with 1 Axes>"
      ]
     },
     "metadata": {
      "needs_background": "light"
     },
     "output_type": "display_data"
    }
   ],
   "source": [
    "# Pegando as principais plataformas\n",
    "princ_plat_sales = games_2002[games_2002['platform'].isin(['ps4','xone','3ds','pc','wiiu','psv'])]\n",
    "# Plotando gráfico de caixa\n",
    "princ_plat_sales.boxplot(column='revenue_total_regions',by='platform',figsize=(20,10))\n",
    "plt.show()"
   ]
  },
  {
   "cell_type": "markdown",
   "id": "71aa45cf",
   "metadata": {},
   "source": [
    "Temos medianas semelahntes para ps4, xone e wiiu. Para os demais temos uma mediana mais baixa, também temos valores atipicos nas platafromas 3ds e ps4 principalmente"
   ]
  },
  {
   "cell_type": "markdown",
   "id": "11c4c65b",
   "metadata": {},
   "source": [
    "### Veja como as avaliações de usuários e profissionais afetam as vendas de uma plataforma popular (você escolhe). Construa um gráfico de dispersão e calcule a correlação entre revisões e vendas. Tire conclusões."
   ]
  },
  {
   "cell_type": "code",
   "execution_count": 34,
   "id": "f8092cf3",
   "metadata": {},
   "outputs": [],
   "source": [
    "# Pegando as plataformas mais populares\n",
    "xone_ps4 = games_2002[games_2002['platform'].isin(['ps4','xone'])]\n",
    "ps4 = xone_ps4[xone_ps4['platform']=='ps4']\n",
    "xone = xone_ps4[xone_ps4['platform']=='xone']"
   ]
  },
  {
   "cell_type": "code",
   "execution_count": 35,
   "id": "c1ca6163",
   "metadata": {},
   "outputs": [
    {
     "data": {
      "image/png": "[encoded data removed]",
      "text/plain": [
       "<Figure size 432x288 with 1 Axes>"
      ]
     },
     "metadata": {
      "needs_background": "light"
     },
     "output_type": "display_data"
    }
   ],
   "source": [
    "# Plotando gráfico de dispersão\n",
    "ps4.plot(x='critic_score',y='revenue_total_regions',kind='scatter')\n",
    "plt.title('critic_score')\n",
    "plt.show()"
   ]
  },
  {
   "cell_type": "code",
   "execution_count": 36,
   "id": "c1f4e7fd",
   "metadata": {},
   "outputs": [
    {
     "data": {
      "image/png": "[encoded data removed]",
      "text/plain": [
       "<Figure size 432x288 with 1 Axes>"
      ]
     },
     "metadata": {
      "needs_background": "light"
     },
     "output_type": "display_data"
    }
   ],
   "source": [
    "# Plotando gráfico de dispersão\n",
    "ps4.plot(x='user_score',y='revenue_total_regions',kind='scatter')\n",
    "plt.title('user_score')\n",
    "plt.show()"
   ]
  },
  {
   "cell_type": "code",
   "execution_count": 37,
   "id": "929bb3d7",
   "metadata": {},
   "outputs": [
    {
     "name": "stdout",
     "output_type": "stream",
     "text": [
      "0.3514080244775845\n",
      "-0.06548195077585676\n"
     ]
    }
   ],
   "source": [
    "# Vendo a correlação entre reviões e vendas\n",
    "print(ps4['critic_score'].corr(ps4['revenue_total_regions']))\n",
    "print(ps4['user_score'].corr(ps4['revenue_total_regions']))"
   ]
  },
  {
   "cell_type": "markdown",
   "id": "704184b7",
   "metadata": {},
   "source": [
    "Não temos uma correlação forte entre as vendas e as reviões no ps4"
   ]
  },
  {
   "cell_type": "code",
   "execution_count": 38,
   "id": "703fe0bb",
   "metadata": {},
   "outputs": [
    {
     "data": {
      "image/png": "[encoded data removed]",
      "text/plain": [
       "<Figure size 432x288 with 1 Axes>"
      ]
     },
     "metadata": {
      "needs_background": "light"
     },
     "output_type": "display_data"
    }
   ],
   "source": [
    "# Plotando gráfico de dispersão\n",
    "xone.plot(x='critic_score',y='revenue_total_regions',kind='scatter')\n",
    "plt.title('critic_score')\n",
    "plt.show()"
   ]
  },
  {
   "cell_type": "code",
   "execution_count": 39,
   "id": "1adf6a01",
   "metadata": {},
   "outputs": [
    {
     "data": {
      "image/png": "[encoded data removed]",
      "text/plain": [
       "<Figure size 432x288 with 1 Axes>"
      ]
     },
     "metadata": {
      "needs_background": "light"
     },
     "output_type": "display_data"
    }
   ],
   "source": [
    "# Plotando gráfico de dispersão\n",
    "xone.plot(x='user_score',y='revenue_total_regions',kind='scatter')\n",
    "plt.title('user_score')\n",
    "plt.show()"
   ]
  },
  {
   "cell_type": "code",
   "execution_count": 40,
   "id": "278725a7",
   "metadata": {},
   "outputs": [
    {
     "name": "stdout",
     "output_type": "stream",
     "text": [
      "0.3786581617346427\n",
      "-0.10515664470960723\n"
     ]
    }
   ],
   "source": [
    "# Vendo a correlação entre reviões e vendas\n",
    "print(xone['critic_score'].corr(xone['revenue_total_regions']))\n",
    "print(xone['user_score'].corr(xone['revenue_total_regions']))"
   ]
  },
  {
   "cell_type": "markdown",
   "id": "41f34208",
   "metadata": {},
   "source": [
    "Obtivemos um resultado semelhante ao do ps4, também não temos uma correção relevante entre as revisões e as vendas"
   ]
  },
  {
   "cell_type": "markdown",
   "id": "608307fd",
   "metadata": {},
   "source": [
    "### Dê uma olhada na distribuição geral de jogos por gênero. O que podemos dizer sobre os gêneros mais lucrativos? Você pode generalizar sobre gêneros com vendas altas e baixas?"
   ]
  },
  {
   "cell_type": "code",
   "execution_count": 41,
   "id": "3a93a49e",
   "metadata": {},
   "outputs": [
    {
     "data": {
      "text/plain": [
       "action          3020\n",
       "sports          1840\n",
       "misc            1580\n",
       "role-playing    1246\n",
       "adventure       1164\n",
       "shooter         1098\n",
       "racing           941\n",
       "simulation       741\n",
       "platform         662\n",
       "fighting         604\n",
       "strategy         523\n",
       "puzzle           460\n",
       "Name: genre, dtype: int64"
      ]
     },
     "execution_count": 41,
     "metadata": {},
     "output_type": "execute_result"
    }
   ],
   "source": [
    "# Vendo os generos quem mais aparecem no nosso dataframe\n",
    "games_2002['genre'].value_counts(ascending=False)"
   ]
  },
  {
   "cell_type": "code",
   "execution_count": 42,
   "id": "7712683d",
   "metadata": {},
   "outputs": [
    {
     "data": {
      "text/html": [
       "<div>\n",
       "<style scoped>\n",
       "    .dataframe tbody tr th:only-of-type {\n",
       "        vertical-align: middle;\n",
       "    }\n",
       "\n",
       "    .dataframe tbody tr th {\n",
       "        vertical-align: top;\n",
       "    }\n",
       "\n",
       "    .dataframe thead th {\n",
       "        text-align: right;\n",
       "    }\n",
       "</style>\n",
       "<table border=\"1\" class=\"dataframe\">\n",
       "  <thead>\n",
       "    <tr style=\"text-align: right;\">\n",
       "      <th></th>\n",
       "      <th>genre</th>\n",
       "      <th>revenue_total_regions</th>\n",
       "    </tr>\n",
       "  </thead>\n",
       "  <tbody>\n",
       "    <tr>\n",
       "      <th>0</th>\n",
       "      <td>action</td>\n",
       "      <td>1456.05</td>\n",
       "    </tr>\n",
       "    <tr>\n",
       "      <th>1</th>\n",
       "      <td>sports</td>\n",
       "      <td>1057.49</td>\n",
       "    </tr>\n",
       "    <tr>\n",
       "      <th>2</th>\n",
       "      <td>shooter</td>\n",
       "      <td>888.64</td>\n",
       "    </tr>\n",
       "    <tr>\n",
       "      <th>3</th>\n",
       "      <td>misc</td>\n",
       "      <td>698.63</td>\n",
       "    </tr>\n",
       "    <tr>\n",
       "      <th>4</th>\n",
       "      <td>role-playing</td>\n",
       "      <td>683.30</td>\n",
       "    </tr>\n",
       "    <tr>\n",
       "      <th>5</th>\n",
       "      <td>racing</td>\n",
       "      <td>489.52</td>\n",
       "    </tr>\n",
       "    <tr>\n",
       "      <th>6</th>\n",
       "      <td>platform</td>\n",
       "      <td>440.23</td>\n",
       "    </tr>\n",
       "    <tr>\n",
       "      <th>7</th>\n",
       "      <td>simulation</td>\n",
       "      <td>314.51</td>\n",
       "    </tr>\n",
       "    <tr>\n",
       "      <th>8</th>\n",
       "      <td>fighting</td>\n",
       "      <td>277.94</td>\n",
       "    </tr>\n",
       "    <tr>\n",
       "      <th>9</th>\n",
       "      <td>adventure</td>\n",
       "      <td>174.40</td>\n",
       "    </tr>\n",
       "    <tr>\n",
       "      <th>10</th>\n",
       "      <td>puzzle</td>\n",
       "      <td>128.09</td>\n",
       "    </tr>\n",
       "    <tr>\n",
       "      <th>11</th>\n",
       "      <td>strategy</td>\n",
       "      <td>100.67</td>\n",
       "    </tr>\n",
       "  </tbody>\n",
       "</table>\n",
       "</div>"
      ],
      "text/plain": [
       "           genre  revenue_total_regions\n",
       "0         action                1456.05\n",
       "1         sports                1057.49\n",
       "2        shooter                 888.64\n",
       "3           misc                 698.63\n",
       "4   role-playing                 683.30\n",
       "5         racing                 489.52\n",
       "6       platform                 440.23\n",
       "7     simulation                 314.51\n",
       "8       fighting                 277.94\n",
       "9      adventure                 174.40\n",
       "10        puzzle                 128.09\n",
       "11      strategy                 100.67"
      ]
     },
     "execution_count": 42,
     "metadata": {},
     "output_type": "execute_result"
    }
   ],
   "source": [
    "# Criando pivot_table com o total de vendas por genero\n",
    "genre_sales = games_2002.pivot_table(index='genre',\n",
    "                                     values='revenue_total_regions',\n",
    "                                     aggfunc='sum').sort_values(\n",
    "                                         by='revenue_total_regions',\n",
    "                                         ascending=False).reset_index()\n",
    "genre_sales"
   ]
  },
  {
   "cell_type": "code",
   "execution_count": 43,
   "id": "0b5f0e30",
   "metadata": {},
   "outputs": [
    {
     "data": {
      "image/png": "[encoded data removed]",
      "text/plain": [
       "<Figure size 432x288 with 1 Axes>"
      ]
     },
     "metadata": {
      "needs_background": "light"
     },
     "output_type": "display_data"
    }
   ],
   "source": [
    "# Plotando o gráfico\n",
    "genre_sales.plot(kind='bar',x='genre')\n",
    "plt.show()"
   ]
  },
  {
   "cell_type": "markdown",
   "id": "c0d073f3",
   "metadata": {},
   "source": [
    "Os gêneros mais lucrativos são ação e esporte, podemos ver que esses também são os gêneros que são mais desenvolvidos."
   ]
  },
  {
   "cell_type": "markdown",
   "id": "ac25198a",
   "metadata": {},
   "source": [
    "## Criar um perfil de usuário para cada região"
   ]
  },
  {
   "cell_type": "markdown",
   "id": "d8c5fef6",
   "metadata": {},
   "source": [
    "### As cinco plataformas principais. Descreva as variações das suas quotas de mercado de região para região."
   ]
  },
  {
   "cell_type": "code",
   "execution_count": 44,
   "id": "51affc8d",
   "metadata": {},
   "outputs": [
    {
     "name": "stdout",
     "output_type": "stream",
     "text": [
      "na_sales\n",
      "  platform  na_sales\n",
      "0     x360    602.47\n",
      "1      wii    496.90\n",
      "2      ps2    488.27\n",
      "3      ps3    393.49\n",
      "\n",
      "eu_sales\n",
      "  platform  eu_sales\n",
      "0      ps3    330.29\n",
      "1      ps2    276.28\n",
      "2     x360    270.76\n",
      "3      wii    262.21\n",
      "\n",
      "jp_sales\n",
      "  platform  jp_sales\n",
      "0       ds    175.55\n",
      "1      ps2    112.54\n",
      "2      3ds    100.67\n",
      "3      ps3     80.19\n",
      "\n"
     ]
    }
   ],
   "source": [
    "# Criando variavel para armazenar as regiões\n",
    "col = ['na_sales', 'eu_sales', 'jp_sales']\n",
    "# Usando o for para iterar sobre cada região e criar uma pivot_table sobre elas\n",
    "for i in col:\n",
    "    print('{}'.format(i))\n",
    "    print(\n",
    "        games_2002.pivot_table(index='platform', values=i,\n",
    "                               aggfunc='sum').sort_values(\n",
    "                                   by=i,\n",
    "                                   ascending=False).reset_index().head(4))\n",
    "    print('')"
   ]
  },
  {
   "cell_type": "markdown",
   "id": "839b2bd0",
   "metadata": {},
   "source": [
    "Existem grandes diferenças entre as regiões,e podemos ver uma diferença maior ainda na coluna `jp_sales`"
   ]
  },
  {
   "cell_type": "markdown",
   "id": "d49ab01a",
   "metadata": {},
   "source": [
    "### Os cinco principais gêneros. Explique a diferença."
   ]
  },
  {
   "cell_type": "code",
   "execution_count": 45,
   "id": "9d9d8cdd",
   "metadata": {},
   "outputs": [
    {
     "name": "stdout",
     "output_type": "stream",
     "text": [
      "na_sales\n",
      "     genre  na_sales\n",
      "0   action    716.91\n",
      "1   sports    549.64\n",
      "2  shooter    480.26\n",
      "3     misc    355.87\n",
      "\n",
      "eu_sales\n",
      "     genre  eu_sales\n",
      "0   action    443.93\n",
      "1   sports    320.54\n",
      "2  shooter    286.97\n",
      "3     misc    189.69\n",
      "\n",
      "jp_sales\n",
      "          genre  jp_sales\n",
      "0  role-playing    218.09\n",
      "1        action    123.79\n",
      "2          misc     82.49\n",
      "3        sports     66.06\n",
      "\n"
     ]
    }
   ],
   "source": [
    "# Criando variavel para armazenar as regiões\n",
    "col = ['na_sales','eu_sales','jp_sales']\n",
    "# Usando o for para iterar sobre cada região e criar uma pivot_table sobre elas\n",
    "for i in col:\n",
    "    print('{}'.format(i))\n",
    "    print(games_2002.pivot_table(index='genre',values=i,aggfunc='sum').sort_values(by=i,ascending=False).reset_index().head(4))\n",
    "    print('')"
   ]
  },
  {
   "cell_type": "markdown",
   "id": "2ca2d93f",
   "metadata": {},
   "source": [
    "Agora temos uma semelhança nas vendas entre as colunas `na_sales` e `eu_sales`, e mais uma vez vemos uma disparidade da coluna `jp_sales` para as demais regiões."
   ]
  },
  {
   "cell_type": "markdown",
   "id": "02cb52e0",
   "metadata": {},
   "source": [
    "### As classificações do ESRB afetam as vendas em regiões individuais?"
   ]
  },
  {
   "cell_type": "code",
   "execution_count": 46,
   "id": "4b9a5842",
   "metadata": {},
   "outputs": [
    {
     "name": "stdout",
     "output_type": "stream",
     "text": [
      "na_sales\n",
      "  rating    genre platform  na_sales\n",
      "0      m  shooter     x360    156.72\n",
      "1      e   sports      wii    134.60\n",
      "2      e   sports      ps2     98.17\n",
      "3      m  shooter      ps3     74.00\n",
      "\n",
      "eu_sales\n",
      "  rating    genre platform  eu_sales\n",
      "0      e   sports      wii     89.67\n",
      "1      m  shooter     x360     68.50\n",
      "2      m  shooter      ps3     65.66\n",
      "3      m   action      ps3     54.63\n",
      "\n",
      "jp_sales\n",
      "  rating         genre platform  jp_sales\n",
      "0      t  role-playing      3ds     38.61\n",
      "1      e          misc       ds     37.17\n",
      "2      t  role-playing       ds     30.10\n",
      "3      t  role-playing      psp     28.34\n",
      "\n"
     ]
    }
   ],
   "source": [
    "# Criando variavel para armazenar as regiões\n",
    "col = ['na_sales','eu_sales','jp_sales']\n",
    "# Usando o for para iterar sobre cada região e criar uma pivot_table sobre elas\n",
    "for i in col:\n",
    "    print('{}'.format(i))\n",
    "    print(games_2002.pivot_table(index=['rating','genre','platform'],values=i,aggfunc='sum').sort_values(by=i,ascending=False).reset_index().head(4))\n",
    "    print('')"
   ]
  },
  {
   "cell_type": "markdown",
   "id": "810de082",
   "metadata": {},
   "source": [
    "Podemos ver que no japão o rating dominante é o t e na europa temos o m, assim podemos chegar a conclusão que no japão e na europa as classificações ESRB afetam as vendas."
   ]
  },
  {
   "cell_type": "markdown",
   "id": "1bdaed08",
   "metadata": {},
   "source": [
    "## Teste as seguintes hipóteses:"
   ]
  },
  {
   "cell_type": "markdown",
   "id": "47c65516",
   "metadata": {},
   "source": [
    "### As classificações médias dos usuários das plataformas Xbox One e PC são as mesmas."
   ]
  },
  {
   "cell_type": "markdown",
   "id": "dc89cd8c",
   "metadata": {},
   "source": [
    "- **Hipotese nula:** As classificações médias dos usuários das plataformas Xbox One e PC são as mesmas.\n",
    "- **Hipotese alternativa:** As classificações médias dos usuários das plataformas Xbox One e PC são as diferentes."
   ]
  },
  {
   "cell_type": "code",
   "execution_count": 47,
   "id": "b559ef42",
   "metadata": {},
   "outputs": [],
   "source": [
    "# Criando tabelas para as platafromas xbox one e pc\n",
    "xbox_hip = games_2002[games_2002['platform']=='xone']\n",
    "pc_hip = games_2002[games_2002['platform']=='pc']"
   ]
  },
  {
   "cell_type": "code",
   "execution_count": 48,
   "id": "8c52fb96",
   "metadata": {},
   "outputs": [
    {
     "data": {
      "text/plain": [
       "1.5664154469012763"
      ]
     },
     "execution_count": 48,
     "metadata": {},
     "output_type": "execute_result"
    }
   ],
   "source": [
    "# Verificando a variancia\n",
    "np.var(xbox_hip['user_score'])"
   ]
  },
  {
   "cell_type": "code",
   "execution_count": 49,
   "id": "edc6b64c",
   "metadata": {},
   "outputs": [
    {
     "data": {
      "text/plain": [
       "1.9047498148468716"
      ]
     },
     "execution_count": 49,
     "metadata": {},
     "output_type": "execute_result"
    }
   ],
   "source": [
    "# Verificando a variancia\n",
    "np.var(pc_hip['user_score'])"
   ]
  },
  {
   "cell_type": "code",
   "execution_count": 50,
   "id": "8c99bb00",
   "metadata": {},
   "outputs": [
    {
     "name": "stdout",
     "output_type": "stream",
     "text": [
      "p-value: 0.0004020073033864229\n",
      "Nós rejeitamos a hipótese nula\n"
     ]
    }
   ],
   "source": [
    "# Definindo nível crítico de significância estatística\n",
    "alpha = 0.05\n",
    "\n",
    "# Testando as hipóteses das duas populações e colando que as variancias são iguais\n",
    "results = st.ttest_ind(xbox_hip['user_score'],pc_hip['user_score'],equal_var=True)\n",
    "                     \n",
    "# Imprimindo o valor-p obtido\n",
    "print('p-value:',results.pvalue)\n",
    "\n",
    "# Comparando o valor-p obtido com o nível de significância\n",
    "if (results.pvalue > alpha):\n",
    "    print(\"Nós não podemos rejeitar a hipótese nula\")\n",
    "else:\n",
    "    print(\"Nós rejeitamos a hipótese nula\")"
   ]
  },
  {
   "cell_type": "markdown",
   "id": "33c8fb34",
   "metadata": {},
   "source": [
    "A hipótese nula foi rejeitada então podemos concluir que as classificações médias dos usuários das plataformas Xbox One e PC provavelmente são as diferentes."
   ]
  },
  {
   "cell_type": "markdown",
   "id": "a188fa0b",
   "metadata": {},
   "source": [
    "### As classificações médias de usuários para os gêneros Action (ação) e Sports (esportes) são diferentes."
   ]
  },
  {
   "cell_type": "markdown",
   "id": "ea0bf8a2",
   "metadata": {},
   "source": [
    "- **Hipotese nula:** As classificações médias de usuários para os gêneros Action (ação) e Sports (esportes) são iguais.\n",
    "- **Hipotese alternativa:** As classificações médias de usuários para os gêneros Action (ação) e Sports (esportes) são diferentes."
   ]
  },
  {
   "cell_type": "code",
   "execution_count": 51,
   "id": "32b0a48f",
   "metadata": {},
   "outputs": [],
   "source": [
    "# Criando tabelas para as platafromas xbox one e pc\n",
    "action_hip = games_2002[games_2002['genre']=='action']\n",
    "sports_hip = games_2002[games_2002['genre']=='sports']"
   ]
  },
  {
   "cell_type": "code",
   "execution_count": 52,
   "id": "86ed5c81",
   "metadata": {},
   "outputs": [
    {
     "data": {
      "text/plain": [
       "1.190578434059879"
      ]
     },
     "execution_count": 52,
     "metadata": {},
     "output_type": "execute_result"
    }
   ],
   "source": [
    "# Verificando a variancia\n",
    "np.var(action_hip['user_score'])"
   ]
  },
  {
   "cell_type": "code",
   "execution_count": 53,
   "id": "ee707bf2",
   "metadata": {},
   "outputs": [
    {
     "data": {
      "text/plain": [
       "1.5443566989603443"
      ]
     },
     "execution_count": 53,
     "metadata": {},
     "output_type": "execute_result"
    }
   ],
   "source": [
    "# Verificando a variancia\n",
    "np.var(sports_hip['user_score'])"
   ]
  },
  {
   "cell_type": "code",
   "execution_count": 54,
   "id": "f21c39c4",
   "metadata": {},
   "outputs": [
    {
     "name": "stdout",
     "output_type": "stream",
     "text": [
      "p-value: 0.07717853111668925\n",
      "Nós não podemos rejeitar a hipótese nula\n"
     ]
    }
   ],
   "source": [
    "# Definindo nível crítico de significância estatística\n",
    "alpha = 0.05\n",
    "\n",
    "# Testando as hipóteses das duas populações e colando que as variancias são iguais\n",
    "results = st.ttest_ind(action_hip['user_score'],sports_hip['user_score'],equal_var=True)\n",
    "                     \n",
    "# Imprimindo o valor-p obtido\n",
    "print('p-value:',results.pvalue)\n",
    "\n",
    "# Comparando o valor-p obtido com o nível de significância\n",
    "if (results.pvalue > alpha):\n",
    "    print(\"Nós não podemos rejeitar a hipótese nula\")\n",
    "else:\n",
    "    print(\"Nós rejeitamos a hipótese nula\")"
   ]
  },
  {
   "cell_type": "markdown",
   "id": "665b78f7",
   "metadata": {},
   "source": [
    "A hipotese nula foi aceita então podemos ver que provavelmente as classificações médias de usuários para os gêneros Action (ação) e Sports (esportes) são iguais."
   ]
  },
  {
   "cell_type": "markdown",
   "id": "fced6785",
   "metadata": {},
   "source": [
    "## Conclusão Geral"
   ]
  },
  {
   "cell_type": "markdown",
   "id": "9400ea14",
   "metadata": {},
   "source": [
    "Podemos tratar a tabela lidando com os valores ausentes, mudando os tipos dos dados, analisamos os dados e criamos insights, criamos um perfil para usuarios de cada região e fizemos testes de hipóteses."
   ]
  }
 ],
 "metadata": {
  "kernelspec": {
   "display_name": "Python 3 (ipykernel)",
   "language": "python",
   "name": "python3"
  },
  "language_info": {
   "codemirror_mode": {
    "name": "ipython",
    "version": 3
   },
   "file_extension": ".py",
   "mimetype": "text/x-python",
   "name": "python",
   "nbconvert_exporter": "python",
   "pygments_lexer": "ipython3",
   "version": "3.9.12"
  },
  "toc": {
   "base_numbering": 1,
   "nav_menu": {},
   "number_sections": true,
   "sideBar": true,
   "skip_h1_title": false,
   "title_cell": "Table of Contents",
   "title_sidebar": "Contents",
   "toc_cell": false,
   "toc_position": {},
   "toc_section_display": true,
   "toc_window_display": false
  },
  "varInspector": {
   "cols": {
    "lenName": 16,
    "lenType": 16,
    "lenVar": 40
   },
   "kernels_config": {
    "python": {
     "delete_cmd_postfix": "",
     "delete_cmd_prefix": "del ",
     "library": "var_list.py",
     "varRefreshCmd": "print(var_dic_list())"
    },
    "r": {
     "delete_cmd_postfix": ") ",
     "delete_cmd_prefix": "rm(",
     "library": "var_list.r",
     "varRefreshCmd": "cat(var_dic_list()) "
    }
   },
   "types_to_exclude": [
    "module",
    "function",
    "builtin_function_or_method",
    "instance",
    "_Feature"
   ],
   "window_display": false
  }
 },
 "nbformat": 4,
 "nbformat_minor": 5
}
